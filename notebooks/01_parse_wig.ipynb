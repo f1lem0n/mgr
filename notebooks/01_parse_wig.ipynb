{
 "cells": [
  {
   "cell_type": "code",
   "execution_count": 68,
   "metadata": {},
   "outputs": [],
   "source": [
    "import numpy as np\n",
    "import pandas as pd\n",
    "from Bio import SeqIO"
   ]
  },
  {
   "cell_type": "code",
   "execution_count": 69,
   "metadata": {},
   "outputs": [
    {
     "name": "stdout",
     "output_type": "stream",
     "text": [
      "['chr\\tpos\\ttsc\\n', 'chrI\\t2953\\t1.0\\n', 'chrI\\t3637\\t1.0\\n', 'chrI\\t3639\\t1.0\\n', 'chrI\\t3793\\t1.0\\n']\n",
      "['chr\\tpos\\ttsc\\n', 'chrI\\t794\\t1.0\\n', 'chrI\\t5881\\t1.0\\n', 'chrI\\t6753\\t1.0\\n', 'chrI\\t6984\\t1.0\\n']\n"
     ]
    }
   ],
   "source": [
    "for label in [\"minus\", \"plus\"]:\n",
    "    with open(f\"../data/dms_signal/GSM1297510_Yeast_10c_{label}.wig\") as f:\n",
    "        lines = f.readlines()\n",
    "    lines = [l.strip().replace(\"\\t\", \"\") for l in lines[1:]]\n",
    "    table = [\"chr\\tpos\\ttsc\\n\"]\n",
    "    for l in lines:\n",
    "        if l.startswith(\"variableStep\"):\n",
    "            chr = l.split(\" \")[1].split(\"=\")[1]\n",
    "        else:\n",
    "            pos, signal = l.split(\" \")\n",
    "            table.append(f\"{chr}\\t{pos}\\t{signal}\\n\")\n",
    "    print(table[:5])\n",
    "    with open(f\"../data/dms_signal/{label}.tsv\", \"w\") as f:\n",
    "        f.writelines(table)"
   ]
  },
  {
   "cell_type": "code",
   "execution_count": 70,
   "metadata": {},
   "outputs": [],
   "source": [
    "plus = pd.read_csv(\"../data/dms_signal/plus.tsv\", sep=\"\\t\")\n",
    "minus = pd.read_csv(\"../data/dms_signal/minus.tsv\", sep=\"\\t\")"
   ]
  },
  {
   "cell_type": "code",
   "execution_count": 71,
   "metadata": {},
   "outputs": [
    {
     "data": {
      "text/plain": [
       "((1236653, 3), (1217741, 3))"
      ]
     },
     "execution_count": 71,
     "metadata": {},
     "output_type": "execute_result"
    }
   ],
   "source": [
    "plus.shape, minus.shape"
   ]
  },
  {
   "cell_type": "code",
   "execution_count": 72,
   "metadata": {},
   "outputs": [
    {
     "data": {
      "text/html": [
       "<div>\n",
       "<style scoped>\n",
       "    .dataframe tbody tr th:only-of-type {\n",
       "        vertical-align: middle;\n",
       "    }\n",
       "\n",
       "    .dataframe tbody tr th {\n",
       "        vertical-align: top;\n",
       "    }\n",
       "\n",
       "    .dataframe thead th {\n",
       "        text-align: right;\n",
       "    }\n",
       "</style>\n",
       "<table border=\"1\" class=\"dataframe\">\n",
       "  <thead>\n",
       "    <tr style=\"text-align: right;\">\n",
       "      <th></th>\n",
       "      <th>chr</th>\n",
       "      <th>pos</th>\n",
       "      <th>tsc</th>\n",
       "    </tr>\n",
       "  </thead>\n",
       "  <tbody>\n",
       "    <tr>\n",
       "      <th>0</th>\n",
       "      <td>chrI</td>\n",
       "      <td>794</td>\n",
       "      <td>1.0</td>\n",
       "    </tr>\n",
       "    <tr>\n",
       "      <th>1</th>\n",
       "      <td>chrI</td>\n",
       "      <td>5881</td>\n",
       "      <td>1.0</td>\n",
       "    </tr>\n",
       "    <tr>\n",
       "      <th>2</th>\n",
       "      <td>chrI</td>\n",
       "      <td>6753</td>\n",
       "      <td>1.0</td>\n",
       "    </tr>\n",
       "    <tr>\n",
       "      <th>3</th>\n",
       "      <td>chrI</td>\n",
       "      <td>6984</td>\n",
       "      <td>1.0</td>\n",
       "    </tr>\n",
       "    <tr>\n",
       "      <th>4</th>\n",
       "      <td>chrI</td>\n",
       "      <td>6992</td>\n",
       "      <td>1.0</td>\n",
       "    </tr>\n",
       "  </tbody>\n",
       "</table>\n",
       "</div>"
      ],
      "text/plain": [
       "    chr   pos  tsc\n",
       "0  chrI   794  1.0\n",
       "1  chrI  5881  1.0\n",
       "2  chrI  6753  1.0\n",
       "3  chrI  6984  1.0\n",
       "4  chrI  6992  1.0"
      ]
     },
     "execution_count": 72,
     "metadata": {},
     "output_type": "execute_result"
    }
   ],
   "source": [
    "plus.head()"
   ]
  },
  {
   "cell_type": "code",
   "execution_count": 73,
   "metadata": {},
   "outputs": [
    {
     "data": {
      "text/html": [
       "<div>\n",
       "<style scoped>\n",
       "    .dataframe tbody tr th:only-of-type {\n",
       "        vertical-align: middle;\n",
       "    }\n",
       "\n",
       "    .dataframe tbody tr th {\n",
       "        vertical-align: top;\n",
       "    }\n",
       "\n",
       "    .dataframe thead th {\n",
       "        text-align: right;\n",
       "    }\n",
       "</style>\n",
       "<table border=\"1\" class=\"dataframe\">\n",
       "  <thead>\n",
       "    <tr style=\"text-align: right;\">\n",
       "      <th></th>\n",
       "      <th>chr</th>\n",
       "      <th>pos</th>\n",
       "      <th>tsc</th>\n",
       "    </tr>\n",
       "  </thead>\n",
       "  <tbody>\n",
       "    <tr>\n",
       "      <th>0</th>\n",
       "      <td>chrI</td>\n",
       "      <td>2953</td>\n",
       "      <td>1.0</td>\n",
       "    </tr>\n",
       "    <tr>\n",
       "      <th>1</th>\n",
       "      <td>chrI</td>\n",
       "      <td>3637</td>\n",
       "      <td>1.0</td>\n",
       "    </tr>\n",
       "    <tr>\n",
       "      <th>2</th>\n",
       "      <td>chrI</td>\n",
       "      <td>3639</td>\n",
       "      <td>1.0</td>\n",
       "    </tr>\n",
       "    <tr>\n",
       "      <th>3</th>\n",
       "      <td>chrI</td>\n",
       "      <td>3793</td>\n",
       "      <td>1.0</td>\n",
       "    </tr>\n",
       "    <tr>\n",
       "      <th>4</th>\n",
       "      <td>chrI</td>\n",
       "      <td>3947</td>\n",
       "      <td>1.0</td>\n",
       "    </tr>\n",
       "  </tbody>\n",
       "</table>\n",
       "</div>"
      ],
      "text/plain": [
       "    chr   pos  tsc\n",
       "0  chrI  2953  1.0\n",
       "1  chrI  3637  1.0\n",
       "2  chrI  3639  1.0\n",
       "3  chrI  3793  1.0\n",
       "4  chrI  3947  1.0"
      ]
     },
     "execution_count": 73,
     "metadata": {},
     "output_type": "execute_result"
    }
   ],
   "source": [
    "minus.head()"
   ]
  },
  {
   "cell_type": "code",
   "execution_count": 74,
   "metadata": {},
   "outputs": [
    {
     "data": {
      "text/plain": [
       "array(['chrI', 'chrII', 'chrIII', 'chrIV', 'chrIX', 'chrMito', 'chrV',\n",
       "       'chrVI', 'chrVII', 'chrVIII', 'chrX', 'chrXI', 'chrXII', 'chrXIII',\n",
       "       'chrXIV', 'chrXV', 'chrXVI'], dtype=object)"
      ]
     },
     "execution_count": 74,
     "metadata": {},
     "output_type": "execute_result"
    }
   ],
   "source": [
    "minus[\"chr\"].unique()"
   ]
  },
  {
   "cell_type": "code",
   "execution_count": 75,
   "metadata": {},
   "outputs": [],
   "source": [
    "with open(\"../data/R62/S288C_reference_sequence_R62-1-1_20090218.fsa\") as f:\n",
    "    ref = list(SeqIO.parse(f, \"fasta\"))"
   ]
  },
  {
   "cell_type": "code",
   "execution_count": 76,
   "metadata": {},
   "outputs": [],
   "source": [
    "for r in ref:\n",
    "    # get chr name\n",
    "    try:\n",
    "        chr = \"chr\" + r.description.split(\"chromosome=\")[1].split(\"]\")[0]\n",
    "    except IndexError:\n",
    "        chr = \"chrMito\"\n",
    "\n",
    "    # get full plus and minus signal arrays\n",
    "    signal_plus = np.zeros(len(r.seq))\n",
    "    signal_minus = np.zeros(len(r.seq))\n",
    "    for i, row in plus[plus[\"chr\"] == chr].iterrows():\n",
    "        signal_plus[row[\"pos\"]] = row[\"tsc\"]\n",
    "    for i, row in minus[minus[\"chr\"] == chr].iterrows():\n",
    "        signal_minus[row[\"pos\"]] = row[\"tsc\"]\n",
    "\n",
    "    # ReLU of difference between plus and minus signals\n",
    "    signal = np.maximum(signal_plus - signal_minus, np.zeros(len(r.seq)))\n",
    "\n",
    "    # 2-8% Normalization\n",
    "    top10 = signal[(-signal).argsort()][:int(0.1 * len(signal))]\n",
    "    signal = signal / np.mean(top10[int(0.2 * len(top10)):])\n",
    "\n",
    "    # save to binary\n",
    "    with open(f\"../data/dms_signal/processed/{chr}.bin\", \"wb\") as f:\n",
    "        np.save(f, signal)"
   ]
  }
 ],
 "metadata": {
  "kernelspec": {
   "display_name": "mgr",
   "language": "python",
   "name": "python3"
  },
  "language_info": {
   "codemirror_mode": {
    "name": "ipython",
    "version": 3
   },
   "file_extension": ".py",
   "mimetype": "text/x-python",
   "name": "python",
   "nbconvert_exporter": "python",
   "pygments_lexer": "ipython3",
   "version": "3.10.8"
  }
 },
 "nbformat": 4,
 "nbformat_minor": 2
}
