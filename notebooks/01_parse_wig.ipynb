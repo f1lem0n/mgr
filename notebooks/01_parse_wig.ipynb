{
 "cells": [
  {
   "cell_type": "code",
   "execution_count": 1,
   "metadata": {},
   "outputs": [
    {
     "name": "stdout",
     "output_type": "stream",
     "text": [
      "['chr\\tpos\\tsignal\\n', 'chrI\\t2953\\t1.0\\n', 'chrI\\t3637\\t1.0\\n', 'chrI\\t3639\\t1.0\\n', 'chrI\\t3793\\t1.0\\n']\n",
      "['chr\\tpos\\tsignal\\n', 'chrI\\t794\\t1.0\\n', 'chrI\\t5881\\t1.0\\n', 'chrI\\t6753\\t1.0\\n', 'chrI\\t6984\\t1.0\\n']\n"
     ]
    }
   ],
   "source": [
    "for label in [\"minus\", \"plus\"]:\n",
    "    with open(f\"../data/dms_signal/GSM1297510_Yeast_10c_{label}.wig\") as f:\n",
    "        lines = f.readlines()\n",
    "    lines = [l.strip().replace(\"\\t\", \"\") for l in lines[1:]]\n",
    "    table = [\"chr\\tpos\\tsignal\\n\"]\n",
    "    for l in lines:\n",
    "        if l.startswith(\"variableStep\"):\n",
    "            chr = l.split(\" \")[1].split(\"=\")[1]\n",
    "        else:\n",
    "            pos, signal = l.split(\" \")\n",
    "            table.append(f\"{chr}\\t{pos}\\t{signal}\\n\")\n",
    "    print(table[:5])\n",
    "    with open(f\"../data/dms_signal/{label}.tsv\", \"w\") as f:\n",
    "        f.writelines(table)"
   ]
  },
  {
   "cell_type": "code",
   "execution_count": 2,
   "metadata": {},
   "outputs": [],
   "source": [
    "import pandas as pd"
   ]
  },
  {
   "cell_type": "code",
   "execution_count": 3,
   "metadata": {},
   "outputs": [],
   "source": [
    "df1 = pd.read_csv(\"../data/dms_signal/plus.tsv\", sep=\"\\t\")\n",
    "df2 = pd.read_csv(\"../data/dms_signal/minus.tsv\", sep=\"\\t\")"
   ]
  },
  {
   "cell_type": "code",
   "execution_count": 4,
   "metadata": {},
   "outputs": [],
   "source": [
    "df = pd.concat([df1, df2])"
   ]
  },
  {
   "cell_type": "code",
   "execution_count": 5,
   "metadata": {},
   "outputs": [
    {
     "data": {
      "text/plain": [
       "((1236653, 3), (1217741, 3), (2454394, 3))"
      ]
     },
     "execution_count": 5,
     "metadata": {},
     "output_type": "execute_result"
    }
   ],
   "source": [
    "df1.shape, df2.shape, df.shape"
   ]
  },
  {
   "cell_type": "code",
   "execution_count": 6,
   "metadata": {},
   "outputs": [],
   "source": [
    "df = df.sort_values([\"chr\", \"pos\"])"
   ]
  },
  {
   "cell_type": "code",
   "execution_count": 7,
   "metadata": {},
   "outputs": [],
   "source": [
    "df.to_csv(\"../data/dms_signal/combined.tsv\", sep=\"\\t\", index=False)"
   ]
  }
 ],
 "metadata": {
  "kernelspec": {
   "display_name": "mgr",
   "language": "python",
   "name": "python3"
  },
  "language_info": {
   "codemirror_mode": {
    "name": "ipython",
    "version": 3
   },
   "file_extension": ".py",
   "mimetype": "text/x-python",
   "name": "python",
   "nbconvert_exporter": "python",
   "pygments_lexer": "ipython3",
   "version": "3.10.8"
  }
 },
 "nbformat": 4,
 "nbformat_minor": 2
}
