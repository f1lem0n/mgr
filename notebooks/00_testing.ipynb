{
 "cells": [
  {
   "cell_type": "code",
   "execution_count": 2,
   "metadata": {},
   "outputs": [],
   "source": [
    "from Bio import SeqIO\n",
    "from Bio.Seq import Seq"
   ]
  },
  {
   "cell_type": "code",
   "execution_count": 3,
   "metadata": {},
   "outputs": [
    {
     "name": "stderr",
     "output_type": "stream",
     "text": [
      "/home/f1lem0n/.miniconda3/envs/mgr/lib/python3.10/site-packages/Bio/Seq.py:2334: BiopythonWarning: Partial codon, len(sequence) not a multiple of three. Explicitly trim the sequence or add trailing N before translation. This may become an error in future.\n",
      "  warnings.warn(\n"
     ]
    },
    {
     "data": {
      "text/plain": [
       "Seq('GNLAEWLRRKIRNLLGFARAGSSPAVV')"
      ]
     },
     "execution_count": 3,
     "metadata": {},
     "output_type": "execute_result"
    }
   ],
   "source": [
    "rs=Seq(\"GGCAACTTGGCCGAGTGGTTAAGGCGAAAGATTAGAAATCTTTTGGGCTTTGCCCGCGCAGGTTCGAGTCCTGCAGTTGTCG\")\n",
    "len(rs)"
   ]
  },
  {
   "cell_type": "code",
   "execution_count": 3,
   "metadata": {},
   "outputs": [
    {
     "data": {
      "text/plain": [
       "('chrI', 182515, 182597)"
      ]
     },
     "execution_count": 3,
     "metadata": {},
     "output_type": "execute_result"
    }
   ],
   "source": [
    "with open(\"../data/S288C_reference_genome_R62-1-1_20090218/rna_coding_R62-1-1_20090220.fasta\") as f:\n",
    "    nn_rec = list(SeqIO.parse(f, \"fasta\"))[5]\n",
    "chr = \"chr\" + nn_rec.description.split(\"Chr\")[1].split(\" \")[1]\n",
    "start, stop = nn_rec.description.split(\"from \")[1].split(\",\")[0].split(\"-\")\n",
    "start, stop = int(start), int(stop)\n",
    "if start > stop:\n",
    "    start, stop = stop - 1, start\n",
    "chr, start, stop"
   ]
  },
  {
   "cell_type": "code",
   "execution_count": 5,
   "metadata": {},
   "outputs": [
    {
     "name": "stdout",
     "output_type": "stream",
     "text": [
      "True\n"
     ]
    }
   ],
   "source": [
    "with open(\"../data/S288C_reference_genome_R62-1-1_20090218/S288C_reference_sequence_R62-1-1_20090218.fsa\") as f:\n",
    "    ref = list(SeqIO.parse(f, \"fasta\"))[0]\n",
    "print(ref.seq[start:stop].reverse_complement() == rs)"
   ]
  },
  {
   "cell_type": "code",
   "execution_count": 16,
   "metadata": {},
   "outputs": [],
   "source": [
    "from Bio import Entrez, SeqIO\n",
    "from io import StringIO\n",
    "\n",
    "Entrez.email = \"hajdylaf@gmail.com\""
   ]
  },
  {
   "cell_type": "code",
   "execution_count": 4,
   "metadata": {},
   "outputs": [
    {
     "data": {
      "text/plain": [
       "2"
      ]
     },
     "execution_count": 4,
     "metadata": {},
     "output_type": "execute_result"
    }
   ],
   "source": [
    "ids = [\"GHM89747.1\", \"CAI4583015.1\"]\n",
    "\n",
    "aa_records = []\n",
    "nn_records = []\n",
    "\n",
    "for id in ids:\n",
    "    with Entrez.efetch(db=\"protein\", id=id, rettype=\"gb\", retmode=\"text\") as handle:\n",
    "        gb = handle.read()\n",
    "    aa_rec = SeqIO.read(StringIO(gb), \"genbank\").format(\"fasta\")\n",
    "    aa_rec = SeqIO.read(StringIO(aa_rec), \"fasta\")\n",
    "    aa_records.append(aa_rec)\n",
    "    cds_coords = gb.split(\"/coded_by=\")[1].split(\"\\n\")[0]\n",
    "    if \"(\" in cds_coords:\n",
    "        cds_coords = cds_coords.split(\"(\")[1].split(\")\")[0]\n",
    "    seqid, coords = cds_coords.split(\":\")[0], cds_coords.split(\":\")[1]\n",
    "    start, stop = coords.split(\"..\")\n",
    "    start, stop = int(start), int(stop)\n",
    "    if start > stop:\n",
    "        start, stop = stop, start\n",
    "    start -= 1\n",
    "    with Entrez.efetch(db=\"nucleotide\", id=seqid, rettype=\"fasta\", retmode=\"text\") as handle:\n",
    "        nn_rec = list(SeqIO.parse(handle, \"fasta\"))[0]\n",
    "    nn_rec.seq = nn_rec.seq[start:stop]\n",
    "    nn_records.append(nn_rec)\n",
    "\n",
    "SeqIO.write(aa_records, \"homologs_aa.fasta\", \"fasta\")\n",
    "SeqIO.write(nn_records, \"pal2nal_guides.fasta\", \"fasta\")\n"
   ]
  },
  {
   "cell_type": "code",
   "execution_count": 9,
   "metadata": {},
   "outputs": [
    {
     "data": {
      "text/plain": [
       "17"
      ]
     },
     "execution_count": 9,
     "metadata": {},
     "output_type": "execute_result"
    }
   ],
   "source": [
    "with open(\"../data/S288C_reference_genome_R62-1-1_20090218/S288C_reference_sequence_R62-1-1_20090218.fsa\") as f:\n",
    "    records = list(SeqIO.parse(f, \"fasta\"))\n",
    "edited_records = []\n",
    "for rec in records:\n",
    "    try:\n",
    "        new_id = \"chr\" + rec.description.split(\"chromosome=\")[1].split(\"]\")[0]\n",
    "    except IndexError:\n",
    "        new_id = \"chrMito\"\n",
    "    rec.id = new_id\n",
    "    rec.name = new_id\n",
    "    rec.description = new_id + \" \" + rec.description\n",
    "    edited_records.append(rec)\n",
    "SeqIO.write(edited_records, \"../data/S288C_reference_genome_R62-1-1_20090218/S288C_reference_sequence_R62-1-1_20090218_adj.fasta\", \"fasta\")\n"
   ]
  },
  {
   "cell_type": "code",
   "execution_count": 13,
   "metadata": {},
   "outputs": [],
   "source": [
    "with open(\"../output/structures/mRNA/blastn-hits.csv\") as f:\n",
    "    lines = f.readlines()\n",
    "lines = [line.strip().split(\",\") for line in lines if line.strip()]"
   ]
  },
  {
   "cell_type": "code",
   "execution_count": 26,
   "metadata": {},
   "outputs": [
    {
     "name": "stdout",
     "output_type": "stream",
     "text": [
      "Fetching CP133022.1\n",
      "Fetching CP129569.1\n",
      "Fetching CP125415.1\n",
      "Fetching CP125398.1\n",
      "Fetching CP080604.1\n",
      "Fetching CP011669.1\n",
      "Fetching CP096553.1\n",
      "Fetching CP093766.1\n",
      "Fetching CP093782.1\n",
      "Fetching CP093750.1\n",
      "Fetching CP046082.1\n",
      "Fetching CP127196.1\n",
      "Fetching AP027345.1\n",
      "Fetching AP026833.1\n",
      "Fetching CP011669.1\n",
      "Fetching CP092954.1\n",
      "Fetching CP089118.1\n",
      "Fetching CP089101.1\n",
      "Fetching CP063256.1\n",
      "Fetching CP059523.2\n",
      "Fetching CP127198.1\n",
      "Fetching CP127198.1\n",
      "Fetching CP127198.1\n",
      "Fetching AP027347.1\n",
      "Fetching AP027347.1\n",
      "Fetching AP027347.1\n",
      "Fetching AP026835.1\n",
      "Fetching AP026835.1\n",
      "Fetching AP026835.1\n",
      "Fetching CP011671.1\n",
      "Fetching CP011671.1\n",
      "Fetching CP011671.1\n",
      "Fetching CP072078.1\n",
      "Fetching CP072078.1\n",
      "Fetching CP072078.1\n",
      "Fetching CP072094.1\n",
      "Fetching CP072094.1\n",
      "Fetching CP072094.1\n",
      "Fetching CP097135.1\n",
      "Fetching CP097135.1\n",
      "Fetching CP097135.1\n",
      "Fetching CP093816.1\n",
      "Fetching CP093816.1\n",
      "Fetching CP093816.1\n",
      "Fetching CP093688.1\n",
      "Fetching CP093688.1\n",
      "Fetching CP093688.1\n",
      "Fetching CP093672.1\n",
      "Fetching CP093672.1\n",
      "Fetching CP093672.1\n",
      "Fetching MN048178.1\n",
      "Fetching CP046084.1\n",
      "Fetching CP127198.1\n",
      "Fetching AP026835.1\n",
      "Fetching CP011671.1\n",
      "Fetching CP092949.1\n",
      "Fetching CP089103.1\n",
      "Fetching CP081969.2\n",
      "Fetching CP063258.1\n",
      "Fetching CP059525.2\n",
      "Fetching CP133024.1\n",
      "Fetching CP127198.1\n",
      "Fetching AP026852.1\n",
      "Fetching AP026835.1\n",
      "Fetching CP011671.1\n",
      "Fetching CP072078.1\n",
      "Fetching CP072094.1\n",
      "Fetching CP097135.1\n",
      "Fetching CP093800.1\n",
      "Fetching CP093720.1\n",
      "Fetching CP134412.1\n",
      "Fetching CP133024.1\n",
      "Fetching CP129571.1\n",
      "Fetching CP127198.1\n",
      "Fetching CP125417.1\n",
      "Fetching CP125400.1\n",
      "Fetching CP080606.1\n",
      "Fetching AP027347.1\n",
      "Fetching AP026852.1\n",
      "Fetching AP026835.1\n",
      "Fetching CP036474.1\n",
      "Fetching CP033475.1\n",
      "Fetching CP033492.1\n",
      "Fetching CP029160.1\n",
      "Fetching CP026299.1\n",
      "Fetching AP027348.1\n",
      "Fetching AP026836.1\n",
      "Fetching CP011672.1\n",
      "Fetching CP092957.1\n",
      "Fetching CP089121.1\n",
      "Fetching CP036485.1\n",
      "Fetching AP027350.1\n",
      "Fetching AP026838.1\n",
      "Fetching CP011674.1\n",
      "Fetching CP072082.1\n",
      "Fetching CP072098.1\n",
      "Fetching CP092960.1\n",
      "Fetching HG994146.1\n",
      "Fetching LR999878.1\n",
      "Fetching CP059528.2\n",
      "Fetching CP134974.1\n",
      "Fetching CP127202.1\n",
      "Fetching CP080610.1\n",
      "Fetching AP027351.1\n",
      "Fetching AP026839.1\n",
      "Fetching CP011675.1\n",
      "Fetching CP093661.1\n",
      "Fetching CP092951.1\n",
      "Fetching CP089124.1\n",
      "Fetching CP089107.1\n",
      "Fetching NM_001179459.1\n",
      "Fetching MN048011.1\n",
      "Fetching CP046466.1\n",
      "Fetching CP033474.1\n",
      "Fetching CP029160.1\n",
      "Fetching CP026295.1\n",
      "Fetching AP026840.1\n",
      "Fetching CP092956.1\n",
      "Fetching CP089125.1\n",
      "Fetching CP059530.2\n",
      "Fetching CP125382.1\n",
      "Fetching NM_001179496.1\n",
      "Fetching MN048021.1\n",
      "Fetching CP133029.1\n",
      "Fetching CP129576.1\n",
      "Fetching CP127203.1\n",
      "Fetching CP125405.1\n",
      "Fetching CP080611.1\n",
      "Fetching AP027352.1\n",
      "Fetching AP026857.1\n",
      "Fetching CP046091.1\n",
      "Fetching CP127205.1\n",
      "Fetching AP027354.1\n",
      "Fetching AP026842.1\n",
      "Fetching CP011678.1\n",
      "Fetching CP092952.1\n",
      "Fetching CP089127.1\n",
      "Fetching CP089110.1\n",
      "Fetching CP063265.1\n",
      "Fetching CP059532.1\n",
      "Fetching CP135955.1\n",
      "Fetching CP133032.1\n",
      "Fetching CP129579.1\n",
      "Fetching CP127206.1\n",
      "Fetching CP125425.1\n",
      "Fetching CP125408.1\n",
      "Fetching AP027355.1\n",
      "Fetching AP026843.1\n",
      "Fetching CP011679.1\n",
      "Fetching CP072086.1\n",
      "Fetching CP133033.1\n",
      "Fetching CP129580.1\n",
      "Fetching CP127207.1\n",
      "Fetching CP125426.1\n",
      "Fetching CP125409.1\n",
      "Fetching CP080615.1\n",
      "Fetching AP027356.1\n",
      "Fetching AP026861.1\n",
      "Fetching AP026844.1\n",
      "Fetching CP011680.1\n",
      "Fetching CP127207.1\n",
      "Fetching AP027356.1\n",
      "Fetching AP026844.1\n",
      "Fetching CP011680.1\n",
      "Fetching CP093825.1\n",
      "Fetching CP093697.1\n",
      "Fetching CP093681.1\n",
      "Fetching CP093585.1\n",
      "Fetching CP093569.1\n",
      "Fetching CP092959.1\n",
      "Fetching CP129581.1\n",
      "Fetching CP127208.1\n",
      "Fetching CP125427.1\n",
      "Fetching CP125410.1\n",
      "Fetching AP027357.1\n",
      "Fetching AP026845.1\n",
      "Fetching CP011681.1\n",
      "Fetching CP072088.1\n",
      "Fetching CP072104.1\n",
      "Fetching CP097145.1\n",
      "Fetching CP129581.1\n",
      "Fetching CP127208.1\n",
      "Fetching AP027357.1\n",
      "Fetching AP026845.1\n",
      "Fetching CP011681.1\n",
      "Fetching CP072088.1\n",
      "Fetching CP072104.1\n",
      "Fetching CP097145.1\n",
      "Fetching CP093826.1\n",
      "Fetching CP093746.1\n",
      "Fetching CP046095.1\n",
      "Fetching CP036482.1\n",
      "Fetching CP033484.1\n",
      "Fetching CP127209.1\n",
      "Fetching AP027358.1\n",
      "Fetching CP011682.1\n",
      "Fetching CP092949.1\n",
      "Fetching CP063269.1\n",
      "Fetching LR813599.2\n",
      "Fetching CP059536.2\n",
      "Fetching CP046096.1\n",
      "Fetching CP127210.1\n",
      "Fetching AP027359.1\n",
      "Fetching AP026847.1\n",
      "Fetching CP011683.1\n",
      "Fetching CP072090.1\n",
      "Fetching CP072106.1\n",
      "Fetching CP089115.1\n",
      "Fetching CP063270.1\n",
      "Fetching CP059537.2\n",
      "Fetching CP133036.1\n",
      "Fetching CP127210.1\n",
      "Fetching CP125429.1\n",
      "Fetching CP125412.1\n",
      "Fetching CP080618.1\n",
      "Fetching AP027359.1\n",
      "Fetching AP026864.1\n",
      "Fetching AP026847.1\n",
      "Fetching CP011683.1\n",
      "Fetching CP072090.1\n"
     ]
    }
   ],
   "source": [
    "homologs = {}\n",
    "for line in lines:\n",
    "    query_id = line[0]\n",
    "    subject_id = line[1]\n",
    "    query_start = int(line[8]) - 1\n",
    "    query_stop = int(line[9])\n",
    "    print(\"Fetching\", subject_id)\n",
    "    with Entrez.efetch(db=\"nucleotide\", id=subject_id, rettype=\"fasta\", retmode=\"text\") as handle:\n",
    "        rec = list(SeqIO.parse(handle, \"fasta\"))[0]\n",
    "    rec.seq = rec.seq[query_start:query_stop]\n",
    "    if query_id not in homologs:\n",
    "        homologs[query_id] = [rec]\n",
    "    else:\n",
    "        homologs[query_id] += [rec]"
   ]
  },
  {
   "cell_type": "code",
   "execution_count": 27,
   "metadata": {},
   "outputs": [],
   "source": [
    "for query_id in homologs:\n",
    "    with open(f\"../output/structures/mRNA/{query_id}/seqdump.txt\", \"w\") as f:\n",
    "        SeqIO.write(homologs[query_id], f, \"fasta\")"
   ]
  },
  {
   "cell_type": "code",
   "execution_count": 28,
   "metadata": {},
   "outputs": [],
   "source": [
    "with open(\"../output/structures/mRNA/blastp-hits.csv\") as f:\n",
    "    lines = f.readlines()\n",
    "lines = [line.strip().split(\",\") for line in lines if line.strip()]"
   ]
  },
  {
   "cell_type": "code",
   "execution_count": 34,
   "metadata": {},
   "outputs": [],
   "source": [
    "for line in lines:\n",
    "    query_id = line[0]\n",
    "    to_save = [line for line in lines if line[0] == query_id]\n",
    "    with open(f\"../output/structures/mRNA/{query_id}/hits.csv\", \"w\") as f:\n",
    "        f.write(\"\\n\".join([\",\".join(line) for line in to_save]))"
   ]
  },
  {
   "cell_type": "code",
   "execution_count": 1,
   "metadata": {},
   "outputs": [],
   "source": [
    "from pathlib import Path\n",
    "import pandas as pd\n",
    "root = Path(\"../output/structures/\")\n",
    "df = pd.DataFrame()\n",
    "for type in [\"mRNA\", \"tRNA\", \"rRNA\"]:\n",
    "    for file in (root / type).iterdir():\n",
    "        if file.suffix == \".tsv\":\n",
    "            _df = pd.read_csv(file, sep=\"\\t\")\n",
    "            _df = _df.melt(id_vars=[\"gene\"],\n",
    "                         var_name=\"structure\",\n",
    "                         value_name=\"score\")\n",
    "            _df[\"type\"] = type\n",
    "            df = pd.concat([df, _df])\n",
    "        if file.is_file():\n",
    "            continue\n",
    "df[\"IA\"] = 0.0\n",
    "\n",
    "for type in [\"mRNA\", \"tRNA\", \"rRNA\"]:\n",
    "    for file in (root / type).iterdir():\n",
    "        if file.is_file():\n",
    "            continue\n",
    "        with open(file / \"constrained.fasta\") as f:\n",
    "            lines = f.readlines()\n",
    "        seq = lines[1].strip()\n",
    "        con = lines[2].strip()\n",
    "        ia = con.count(\"x\") / len(seq)\n",
    "        df.loc[df[\"gene\"] == file.name, \"IA\"] = ia\n"
   ]
  },
  {
   "cell_type": "code",
   "execution_count": 2,
   "metadata": {},
   "outputs": [],
   "source": [
    "df.to_csv(\"../output/structures/combined.csv\", index=False)"
   ]
  },
  {
   "cell_type": "code",
   "execution_count": null,
   "metadata": {},
   "outputs": [],
   "source": []
  }
 ],
 "metadata": {
  "kernelspec": {
   "display_name": "mgr",
   "language": "python",
   "name": "python3"
  },
  "language_info": {
   "codemirror_mode": {
    "name": "ipython",
    "version": 3
   },
   "file_extension": ".py",
   "mimetype": "text/x-python",
   "name": "python",
   "nbconvert_exporter": "python",
   "pygments_lexer": "ipython3",
   "version": "3.10.8"
  }
 },
 "nbformat": 4,
 "nbformat_minor": 2
}
