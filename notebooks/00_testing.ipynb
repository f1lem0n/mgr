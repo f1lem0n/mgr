{
 "cells": [
  {
   "cell_type": "code",
   "execution_count": 2,
   "metadata": {},
   "outputs": [],
   "source": [
    "from Bio import SeqIO\n",
    "from Bio.Seq import Seq"
   ]
  },
  {
   "cell_type": "code",
   "execution_count": 3,
   "metadata": {},
   "outputs": [
    {
     "name": "stderr",
     "output_type": "stream",
     "text": [
      "/home/f1lem0n/.miniconda3/envs/mgr/lib/python3.10/site-packages/Bio/Seq.py:2334: BiopythonWarning: Partial codon, len(sequence) not a multiple of three. Explicitly trim the sequence or add trailing N before translation. This may become an error in future.\n",
      "  warnings.warn(\n"
     ]
    },
    {
     "data": {
      "text/plain": [
       "Seq('GNLAEWLRRKIRNLLGFARAGSSPAVV')"
      ]
     },
     "execution_count": 3,
     "metadata": {},
     "output_type": "execute_result"
    }
   ],
   "source": [
    "rs=Seq(\"GGCAACTTGGCCGAGTGGTTAAGGCGAAAGATTAGAAATCTTTTGGGCTTTGCCCGCGCAGGTTCGAGTCCTGCAGTTGTCG\")\n",
    "len(rs)"
   ]
  },
  {
   "cell_type": "code",
   "execution_count": 3,
   "metadata": {},
   "outputs": [
    {
     "data": {
      "text/plain": [
       "('chrI', 182515, 182597)"
      ]
     },
     "execution_count": 3,
     "metadata": {},
     "output_type": "execute_result"
    }
   ],
   "source": [
    "with open(\"../data/S288C_reference_genome_R62-1-1_20090218/rna_coding_R62-1-1_20090220.fasta\") as f:\n",
    "    nn_rec = list(SeqIO.parse(f, \"fasta\"))[5]\n",
    "chr = \"chr\" + nn_rec.description.split(\"Chr\")[1].split(\" \")[1]\n",
    "start, stop = nn_rec.description.split(\"from \")[1].split(\",\")[0].split(\"-\")\n",
    "start, stop = int(start), int(stop)\n",
    "if start > stop:\n",
    "    start, stop = stop - 1, start\n",
    "chr, start, stop"
   ]
  },
  {
   "cell_type": "code",
   "execution_count": 5,
   "metadata": {},
   "outputs": [
    {
     "name": "stdout",
     "output_type": "stream",
     "text": [
      "True\n"
     ]
    }
   ],
   "source": [
    "with open(\"../data/S288C_reference_genome_R62-1-1_20090218/S288C_reference_sequence_R62-1-1_20090218.fsa\") as f:\n",
    "    ref = list(SeqIO.parse(f, \"fasta\"))[0]\n",
    "print(ref.seq[start:stop].reverse_complement() == rs)"
   ]
  },
  {
   "cell_type": "code",
   "execution_count": 2,
   "metadata": {},
   "outputs": [],
   "source": [
    "from Bio import Entrez, SeqIO\n",
    "from io import StringIO\n",
    "\n",
    "Entrez.email = \"hajdylaf@gmail.com\""
   ]
  },
  {
   "cell_type": "code",
   "execution_count": 4,
   "metadata": {},
   "outputs": [
    {
     "data": {
      "text/plain": [
       "2"
      ]
     },
     "execution_count": 4,
     "metadata": {},
     "output_type": "execute_result"
    }
   ],
   "source": [
    "ids = [\"GHM89747.1\", \"CAI4583015.1\"]\n",
    "\n",
    "aa_records = []\n",
    "nn_records = []\n",
    "\n",
    "for id in ids:\n",
    "    with Entrez.efetch(db=\"protein\", id=id, rettype=\"gb\", retmode=\"text\") as handle:\n",
    "        gb = handle.read()\n",
    "    aa_rec = SeqIO.read(StringIO(gb), \"genbank\").format(\"fasta\")\n",
    "    aa_rec = SeqIO.read(StringIO(aa_rec), \"fasta\")\n",
    "    aa_records.append(aa_rec)\n",
    "    cds_coords = gb.split(\"/coded_by=\")[1].split(\"\\n\")[0]\n",
    "    if \"(\" in cds_coords:\n",
    "        cds_coords = cds_coords.split(\"(\")[1].split(\")\")[0]\n",
    "    seqid, coords = cds_coords.split(\":\")[0], cds_coords.split(\":\")[1]\n",
    "    start, stop = coords.split(\"..\")\n",
    "    start, stop = int(start), int(stop)\n",
    "    if start > stop:\n",
    "        start, stop = stop, start\n",
    "    start -= 1\n",
    "    with Entrez.efetch(db=\"nucleotide\", id=seqid, rettype=\"fasta\", retmode=\"text\") as handle:\n",
    "        nn_rec = list(SeqIO.parse(handle, \"fasta\"))[0]\n",
    "    nn_rec.seq = nn_rec.seq[start:stop]\n",
    "    nn_records.append(nn_rec)\n",
    "\n",
    "SeqIO.write(aa_records, \"homologs_aa.fasta\", \"fasta\")\n",
    "SeqIO.write(nn_records, \"pal2nal_guides.fasta\", \"fasta\")\n"
   ]
  },
  {
   "cell_type": "code",
   "execution_count": 9,
   "metadata": {},
   "outputs": [
    {
     "data": {
      "text/plain": [
       "17"
      ]
     },
     "execution_count": 9,
     "metadata": {},
     "output_type": "execute_result"
    }
   ],
   "source": [
    "with open(\"../data/S288C_reference_genome_R62-1-1_20090218/S288C_reference_sequence_R62-1-1_20090218.fsa\") as f:\n",
    "    records = list(SeqIO.parse(f, \"fasta\"))\n",
    "edited_records = []\n",
    "for rec in records:\n",
    "    try:\n",
    "        new_id = \"chr\" + rec.description.split(\"chromosome=\")[1].split(\"]\")[0]\n",
    "    except IndexError:\n",
    "        new_id = \"chrMito\"\n",
    "    rec.id = new_id\n",
    "    rec.name = new_id\n",
    "    rec.description = new_id + \" \" + rec.description\n",
    "    edited_records.append(rec)\n",
    "SeqIO.write(edited_records, \"../data/S288C_reference_genome_R62-1-1_20090218/S288C_reference_sequence_R62-1-1_20090218_adj.fasta\", \"fasta\")\n"
   ]
  }
 ],
 "metadata": {
  "kernelspec": {
   "display_name": "mgr",
   "language": "python",
   "name": "python3"
  },
  "language_info": {
   "codemirror_mode": {
    "name": "ipython",
    "version": 3
   },
   "file_extension": ".py",
   "mimetype": "text/x-python",
   "name": "python",
   "nbconvert_exporter": "python",
   "pygments_lexer": "ipython3",
   "version": "3.10.8"
  }
 },
 "nbformat": 4,
 "nbformat_minor": 2
}
