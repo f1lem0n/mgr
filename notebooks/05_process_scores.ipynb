{
 "cells": [
  {
   "cell_type": "code",
   "execution_count": 15,
   "metadata": {},
   "outputs": [],
   "source": [
    "from pathlib import Path\n",
    "import pandas as pd"
   ]
  },
  {
   "cell_type": "code",
   "execution_count": 18,
   "metadata": {},
   "outputs": [],
   "source": [
    "root = Path(\"../output_yeast_post_threshold/structures/\")\n",
    "types = [path.name for path in root.iterdir() if path.is_dir()]\n",
    "struct_aliases = {\n",
    "    \"VS\": \"insilico\",\n",
    "    \"VC\": \"consensus\",\n",
    "    \"VG\": \"consensus_guided\",\n",
    "}\n",
    "\n",
    "df = pd.DataFrame()\n",
    "for type in types:\n",
    "    for file in (root / type).iterdir():\n",
    "        if not file.suffix == \".tsv\":\n",
    "            continue\n",
    "        _df = pd.read_csv(file, sep=\"\\t\")\n",
    "        _df = _df.melt(\n",
    "            id_vars=[\"gene\"],\n",
    "            var_name=\"structure\",\n",
    "            value_name=\"score\"\n",
    "        )\n",
    "        _df[\"type\"] = type\n",
    "        df = pd.concat([df, _df])\n",
    "\n",
    "df[\"IA\"] = 0.0\n",
    "df[\"CS\"] = 0.0\n",
    "\n",
    "for type in types:\n",
    "    for file in (root / type).iterdir():\n",
    "        if file.is_file():\n",
    "            continue\n",
    "        with open(file / \"constrained.fasta\") as f:\n",
    "            lines = f.readlines()\n",
    "        seq = lines[1].strip()\n",
    "        con = lines[2].strip()\n",
    "        ia = con.count(\"x\") / len(seq)\n",
    "        df.loc[df[\"gene\"] == file.name, \"IA\"] = ia\n",
    "\n",
    "new_rows = []\n",
    "for row in df.iterrows():\n",
    "    row = row[1]\n",
    "    mfe_path = root / row.type / row.gene / \"vienna\" / \\\n",
    "        struct_aliases[row.structure] / \"MFEs.txt\"\n",
    "    con_path = root / row.type / row.gene / \"constrained.fasta\"\n",
    "    with open(con_path) as f:\n",
    "        lines = f.readlines()\n",
    "    seq = lines[1].strip()\n",
    "    con = lines[2].strip()\n",
    "    con = con.replace(\".\", \"?\").replace(\"x\", \".\")\n",
    "    with open(mfe_path) as f:\n",
    "        lines = f.readlines()\n",
    "    lines = [line for line in lines if not line.startswith(\">\")]\n",
    "    mfe = lines[1].split(\" \")[0]\n",
    "    nu = con.count(\".\")\n",
    "    nc = sum([int(c == m) for c, m in zip(con, mfe)])\n",
    "    np = seq.count(\"C\") + seq.count(\"A\")\n",
    "    row.CS = (nu * nc) / (np * (nu + 1))\n",
    "    new_rows.append(row)\n",
    "\n",
    "df = pd.DataFrame(new_rows)\n",
    "df.to_csv(root / \"combined.csv\", index=False)"
   ]
  }
 ],
 "metadata": {
  "kernelspec": {
   "display_name": "mgr",
   "language": "python",
   "name": "python3"
  },
  "language_info": {
   "codemirror_mode": {
    "name": "ipython",
    "version": 3
   },
   "file_extension": ".py",
   "mimetype": "text/x-python",
   "name": "python",
   "nbconvert_exporter": "python",
   "pygments_lexer": "ipython3",
   "version": "3.10.8"
  }
 },
 "nbformat": 4,
 "nbformat_minor": 2
}
