{
 "cells": [
  {
   "cell_type": "code",
   "execution_count": 1,
   "metadata": {},
   "outputs": [],
   "source": [
    "import numpy as np\n",
    "import pandas as pd\n",
    "from Bio import SeqIO\n",
    "from pathlib import Path"
   ]
  },
  {
   "cell_type": "code",
   "execution_count": 2,
   "metadata": {},
   "outputs": [
    {
     "name": "stdout",
     "output_type": "stream",
     "text": [
      "['id\\tbase\\tcount\\n', 'chrI\\tC\\t0\\n', 'chrI\\tC\\t0\\n', 'chrI\\tA\\t0\\n', 'chrI\\tC\\t0\\n']\n",
      "['id\\tbase\\tcount\\n', 'chrI\\tC\\t0\\n', 'chrI\\tC\\t0\\n', 'chrI\\tA\\t0\\n', 'chrI\\tC\\t0\\n']\n"
     ]
    }
   ],
   "source": [
    "for label in [\"minus\", \"plus\"]:\n",
    "    with open(f\"../output/RTS_counts/{label}.tab\") as f:\n",
    "        lines = f.readlines()\n",
    "    lines = [l.strip() for l in lines if l != \"\\n\"]\n",
    "    table = [\"id\\tbase\\tcount\\n\"]\n",
    "    for l in lines:\n",
    "        if l.startswith(\"chr\"):\n",
    "            id = l\n",
    "        else:\n",
    "            base, count, _ = l.split(\"\\t\")\n",
    "            table.append(f\"{id}\\t{base}\\t{count}\\n\")\n",
    "    print(table[:5])\n",
    "    with open(f\"../output/RTS_counts/{label}.tsv\", \"w\") as f:\n",
    "        f.writelines(table)"
   ]
  },
  {
   "cell_type": "code",
   "execution_count": 3,
   "metadata": {},
   "outputs": [],
   "source": [
    "plus = pd.read_csv(\"../output/RTS_counts/plus.tsv\", sep=\"\\t\")\n",
    "minus = pd.read_csv(\"../output/RTS_counts/minus.tsv\", sep=\"\\t\")"
   ]
  },
  {
   "cell_type": "code",
   "execution_count": 4,
   "metadata": {},
   "outputs": [
    {
     "data": {
      "text/plain": [
       "((12156676, 3), (12156676, 3))"
      ]
     },
     "execution_count": 4,
     "metadata": {},
     "output_type": "execute_result"
    }
   ],
   "source": [
    "plus.shape, minus.shape"
   ]
  },
  {
   "cell_type": "code",
   "execution_count": 5,
   "metadata": {},
   "outputs": [
    {
     "data": {
      "text/html": [
       "<div>\n",
       "<style scoped>\n",
       "    .dataframe tbody tr th:only-of-type {\n",
       "        vertical-align: middle;\n",
       "    }\n",
       "\n",
       "    .dataframe tbody tr th {\n",
       "        vertical-align: top;\n",
       "    }\n",
       "\n",
       "    .dataframe thead th {\n",
       "        text-align: right;\n",
       "    }\n",
       "</style>\n",
       "<table border=\"1\" class=\"dataframe\">\n",
       "  <thead>\n",
       "    <tr style=\"text-align: right;\">\n",
       "      <th></th>\n",
       "      <th>id</th>\n",
       "      <th>base</th>\n",
       "      <th>count</th>\n",
       "    </tr>\n",
       "  </thead>\n",
       "  <tbody>\n",
       "    <tr>\n",
       "      <th>0</th>\n",
       "      <td>chrI</td>\n",
       "      <td>C</td>\n",
       "      <td>0</td>\n",
       "    </tr>\n",
       "    <tr>\n",
       "      <th>1</th>\n",
       "      <td>chrI</td>\n",
       "      <td>C</td>\n",
       "      <td>0</td>\n",
       "    </tr>\n",
       "    <tr>\n",
       "      <th>2</th>\n",
       "      <td>chrI</td>\n",
       "      <td>A</td>\n",
       "      <td>0</td>\n",
       "    </tr>\n",
       "    <tr>\n",
       "      <th>3</th>\n",
       "      <td>chrI</td>\n",
       "      <td>C</td>\n",
       "      <td>0</td>\n",
       "    </tr>\n",
       "    <tr>\n",
       "      <th>4</th>\n",
       "      <td>chrI</td>\n",
       "      <td>A</td>\n",
       "      <td>0</td>\n",
       "    </tr>\n",
       "  </tbody>\n",
       "</table>\n",
       "</div>"
      ],
      "text/plain": [
       "     id base  count\n",
       "0  chrI    C      0\n",
       "1  chrI    C      0\n",
       "2  chrI    A      0\n",
       "3  chrI    C      0\n",
       "4  chrI    A      0"
      ]
     },
     "execution_count": 5,
     "metadata": {},
     "output_type": "execute_result"
    }
   ],
   "source": [
    "plus.head()"
   ]
  },
  {
   "cell_type": "code",
   "execution_count": 6,
   "metadata": {},
   "outputs": [
    {
     "data": {
      "text/html": [
       "<div>\n",
       "<style scoped>\n",
       "    .dataframe tbody tr th:only-of-type {\n",
       "        vertical-align: middle;\n",
       "    }\n",
       "\n",
       "    .dataframe tbody tr th {\n",
       "        vertical-align: top;\n",
       "    }\n",
       "\n",
       "    .dataframe thead th {\n",
       "        text-align: right;\n",
       "    }\n",
       "</style>\n",
       "<table border=\"1\" class=\"dataframe\">\n",
       "  <thead>\n",
       "    <tr style=\"text-align: right;\">\n",
       "      <th></th>\n",
       "      <th>id</th>\n",
       "      <th>base</th>\n",
       "      <th>count</th>\n",
       "    </tr>\n",
       "  </thead>\n",
       "  <tbody>\n",
       "    <tr>\n",
       "      <th>0</th>\n",
       "      <td>chrI</td>\n",
       "      <td>C</td>\n",
       "      <td>0</td>\n",
       "    </tr>\n",
       "    <tr>\n",
       "      <th>1</th>\n",
       "      <td>chrI</td>\n",
       "      <td>C</td>\n",
       "      <td>0</td>\n",
       "    </tr>\n",
       "    <tr>\n",
       "      <th>2</th>\n",
       "      <td>chrI</td>\n",
       "      <td>A</td>\n",
       "      <td>0</td>\n",
       "    </tr>\n",
       "    <tr>\n",
       "      <th>3</th>\n",
       "      <td>chrI</td>\n",
       "      <td>C</td>\n",
       "      <td>0</td>\n",
       "    </tr>\n",
       "    <tr>\n",
       "      <th>4</th>\n",
       "      <td>chrI</td>\n",
       "      <td>A</td>\n",
       "      <td>0</td>\n",
       "    </tr>\n",
       "  </tbody>\n",
       "</table>\n",
       "</div>"
      ],
      "text/plain": [
       "     id base  count\n",
       "0  chrI    C      0\n",
       "1  chrI    C      0\n",
       "2  chrI    A      0\n",
       "3  chrI    C      0\n",
       "4  chrI    A      0"
      ]
     },
     "execution_count": 6,
     "metadata": {},
     "output_type": "execute_result"
    }
   ],
   "source": [
    "minus.head()"
   ]
  },
  {
   "cell_type": "code",
   "execution_count": 7,
   "metadata": {},
   "outputs": [],
   "source": [
    "with open(\"../data/S288C_reference_genome_R62-1-1_20090218/S288C_reference_sequence_R62-1-1_20090218_adj.fasta\") as f:\n",
    "    ref = list(SeqIO.parse(f, \"fasta\"))"
   ]
  },
  {
   "cell_type": "code",
   "execution_count": 15,
   "metadata": {},
   "outputs": [],
   "source": [
    "for r in ref:\n",
    "    # get chr name\\n\",\n",
    "    try:\n",
    "        chr = \"chr\" + r.description.split(\"chromosome=\")[1].split(\"]\")[0]\n",
    "    except IndexError:\n",
    "        chr = \"chrMito\"\n",
    "\n",
    "    assert (plus[\"base\"] == minus[\"base\"]).all()\n",
    "\n",
    "    count_plus = np.array(plus[plus[\"id\"] == r.id][\"count\"])\n",
    "    count_minus = np.array(minus[minus[\"id\"] == r.id][\"count\"])\n",
    "\n",
    "    # ReLU of difference between plus and minus signals\n",
    "    count = np.maximum(count_plus - count_minus, np.zeros(len(r.seq)))\n",
    "\n",
    "    # 2-8% Normalization\n",
    "    top10 = count[(-count).argsort()][:int(0.1 * len(count))]\n",
    "    signal = count / np.mean(top10[int(0.2 * len(top10)):])\n",
    "    df = pd.DataFrame(\n",
    "        {\n",
    "            \"base\": plus[plus[\"id\"] == r.id][\"base\"],\n",
    "            \"signal\": signal\n",
    "        }\n",
    "    )\n",
    "    df.loc[df[\"base\"] == \"T\", \"signal\"] = 0\n",
    "    df.loc[df[\"base\"] == \"G\", \"signal\"] = 0\n",
    "\n",
    "    # save to tsv\n",
    "    Path(f\"../output/DMS_signal/\").mkdir(parents=True, exist_ok=True)\n",
    "    df.to_csv(f\"../output/DMS_signal/{chr}.tsv\", sep=\"\\t\", index=False)"
   ]
  }
 ],
 "metadata": {
  "kernelspec": {
   "display_name": "mgr",
   "language": "python",
   "name": "python3"
  },
  "language_info": {
   "codemirror_mode": {
    "name": "ipython",
    "version": 3
   },
   "file_extension": ".py",
   "mimetype": "text/x-python",
   "name": "python",
   "nbconvert_exporter": "python",
   "pygments_lexer": "ipython3",
   "version": "3.10.8"
  }
 },
 "nbformat": 4,
 "nbformat_minor": 2
}
