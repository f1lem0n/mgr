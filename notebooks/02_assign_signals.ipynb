{
 "cells": [
  {
   "cell_type": "code",
   "execution_count": 7,
   "metadata": {},
   "outputs": [],
   "source": [
    "from pathlib import Path\n",
    "import random\n",
    "\n",
    "from Bio import SeqIO, Entrez\n",
    "import pandas as pd"
   ]
  },
  {
   "cell_type": "code",
   "execution_count": 8,
   "metadata": {},
   "outputs": [],
   "source": [
    "Entrez.email = \"hajdylaf@gmail.com\""
   ]
  },
  {
   "cell_type": "code",
   "execution_count": 9,
   "metadata": {},
   "outputs": [],
   "source": [
    "def parse_gene_infos(records, filter=None):\n",
    "    \"\"\"parse gene info from fasta file (for R62 genome)\"\"\"\n",
    "    infos = []\n",
    "    for rec in records:\n",
    "        if filter is not None:\n",
    "            if filter not in rec.description:\n",
    "                continue\n",
    "        gene_id = rec.id\n",
    "        name = rec.description.split(\" \")[1]\n",
    "        chr = \"chr\" + rec.description.split(\" \")[4]\n",
    "        coords = rec.description.split(\" \")[6]\n",
    "        if coords.count(\"-\") > 1:\n",
    "            continue\n",
    "        coords = coords.replace(\",\", \"\")\n",
    "        start = int(coords.split(\"-\")[0])\n",
    "        end = int(coords.split(\"-\")[1])\n",
    "        if start > end:\n",
    "            continue\n",
    "        infos.append([gene_id, name, chr, start])\n",
    "    return infos\n",
    "\n",
    "def find_save_rec(transcripts, gene_name, transcript_id):\n",
    "    for rec in transcripts:\n",
    "        if rec.id == transcript_id:\n",
    "            Path(f\"../output/{gene_name}\").mkdir(parents=True, exist_ok=True)\n",
    "            with open(f\"../output/{gene_name}/seq.fasta\", \"w\") as f:\n",
    "                f.write(f\">{rec.id}\\n{rec.seq}\\n\")\n",
    "            return rec\n",
    "\n",
    "\n",
    "def get_signals(sel_chr, rec):\n",
    "    signals = []\n",
    "    for idx, nt in enumerate(rec.seq):\n",
    "        if idx in sel_chr[\"pos\"].values and nt in \"AT\":\n",
    "            signals.append(\n",
    "                [nt, sel_chr[sel_chr[\"pos\"] == idx][\"signal\"].values[0]]\n",
    "            )\n",
    "        else:\n",
    "            signals.append([nt, 0])\n",
    "    signals = pd.DataFrame(signals, columns=[\"nt\", \"signal\"])\n",
    "    signals[\"signal\"] = signals[\"signal\"] / signals[\"signal\"].max()\n",
    "    return signals\n",
    "\n",
    "\n",
    "def make_save_constraints(signals, rec, gene_name, threshold=0.2):\n",
    "    constraints = [\n",
    "        \"x\" if signals[\"signal\"].iloc[i] > threshold\n",
    "        else \".\" for i in range(len(signals))\n",
    "    ]\n",
    "    with open(f\"../output/{gene_name}/constrained.fasta\", \"w\") as f:\n",
    "        f.write(f\">{rec.id}\\n{rec.seq}\\n{''.join(constraints)}\\n\")"
   ]
  },
  {
   "cell_type": "code",
   "execution_count": 10,
   "metadata": {},
   "outputs": [
    {
     "data": {
      "text/plain": [
       "[['YAL002W', 'VPS8', 'chrI', 143709],\n",
       " ['YAL004W', 'YAL004W', 'chrI', 140762],\n",
       " ['YAL008W', 'FUN14', 'chrI', 136916],\n",
       " ['YAL009W', 'SPO7', 'chrI', 135856],\n",
       " ['YAL011W', 'SWC3', 'chrI', 132202]]"
      ]
     },
     "execution_count": 10,
     "metadata": {},
     "output_type": "execute_result"
    }
   ],
   "source": [
    "with open(\"../data/R62/rna.fna\") as f:\n",
    "    records = list(SeqIO.parse(f, \"fasta\"))\n",
    "infos = parse_gene_infos(records)\n",
    "infos[:5]"
   ]
  },
  {
   "cell_type": "code",
   "execution_count": 11,
   "metadata": {},
   "outputs": [
    {
     "data": {
      "text/plain": [
       "array(['chrI', 'chrII', 'chrIII', 'chrIV', 'chrIX', 'chrMito', 'chrV',\n",
       "       'chrVI', 'chrVII', 'chrVIII', 'chrX', 'chrXI', 'chrXII', 'chrXIII',\n",
       "       'chrXIV', 'chrXV', 'chrXVI'], dtype=object)"
      ]
     },
     "execution_count": 11,
     "metadata": {},
     "output_type": "execute_result"
    }
   ],
   "source": [
    "THRESHOLD = 0.1\n",
    "\n",
    "df = pd.read_csv(\"../data/dms_signal/combined.tsv\", sep=\"\\t\")\n",
    "df[\"chr\"].unique()"
   ]
  },
  {
   "cell_type": "code",
   "execution_count": 12,
   "metadata": {},
   "outputs": [],
   "source": [
    "for TRANSCRIPT_ID, GENE_NAME, CHR, TRANSCRIPT_START in random.choices(infos, k=10):\n",
    "    TRANSCRIPT_START = int(TRANSCRIPT_START)\n",
    "    sel_chr = df[df[\"chr\"] == CHR]\n",
    "    sel_chr.loc[:, \"pos\"] = sel_chr[\"pos\"] - TRANSCRIPT_START\n",
    "    sel_chr = sel_chr[sel_chr[\"pos\"] >= 0]\n",
    "    transcripts = SeqIO.parse(\"../data/R62/rna.fna\", \"fasta\")\n",
    "    rec = find_save_rec(transcripts, GENE_NAME, TRANSCRIPT_ID)\n",
    "    transcript_signals = get_signals(sel_chr, rec)\n",
    "    make_save_constraints(transcript_signals, rec, GENE_NAME, THRESHOLD)"
   ]
  }
 ],
 "metadata": {
  "kernelspec": {
   "display_name": "mgr",
   "language": "python",
   "name": "python3"
  },
  "language_info": {
   "codemirror_mode": {
    "name": "ipython",
    "version": 3
   },
   "file_extension": ".py",
   "mimetype": "text/x-python",
   "name": "python",
   "nbconvert_exporter": "python",
   "pygments_lexer": "ipython3",
   "version": "3.10.8"
  }
 },
 "nbformat": 4,
 "nbformat_minor": 2
}
