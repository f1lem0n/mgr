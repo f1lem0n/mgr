{
 "cells": [
  {
   "cell_type": "code",
   "execution_count": 1,
   "metadata": {},
   "outputs": [],
   "source": [
    "from pathlib import Path\n",
    "import random\n",
    "import re\n",
    "\n",
    "from Bio import SeqIO\n",
    "import numpy as np"
   ]
  },
  {
   "cell_type": "code",
   "execution_count": 2,
   "metadata": {},
   "outputs": [],
   "source": [
    "DMS_THRESHOLD = 0.2\n",
    "CONSTRAINED_THRESHOLD = 0.2"
   ]
  },
  {
   "cell_type": "code",
   "execution_count": 3,
   "metadata": {},
   "outputs": [],
   "source": [
    "def parse_gene_infos(records):\n",
    "    \"\"\"parse gene info from fasta file (for R62 genome)\"\"\"\n",
    "    infos = []\n",
    "    for rec in records:\n",
    "        gene_id = rec.id\n",
    "        name = rec.description.split(\" \")[1]\n",
    "        chr = \"chr\" + rec.description.split(\" \")[4]\n",
    "        coords = rec.description.split(\" \")[6]\n",
    "        starts = []\n",
    "        ends = []\n",
    "        for c in coords[:-1].split(\",\"):\n",
    "            start = int(c.split(\"-\")[0]) - 1\n",
    "            end = int(c.split(\"-\")[1])\n",
    "            if start > end:\n",
    "                start, end = end, start\n",
    "            starts.append(start)\n",
    "            ends.append(end)\n",
    "        infos.append([gene_id, name, chr, starts, ends])\n",
    "    return infos\n",
    "\n",
    "def filter(rec, query):\n",
    "    regex = re.compile(query)\n",
    "    return regex.search(rec.description)\n",
    "\n",
    "def get_rec(transcripts, transcript_id):\n",
    "    for rec in transcripts:\n",
    "        if rec.id == transcript_id:\n",
    "            return rec\n",
    "\n",
    "\n",
    "def get_signals(chr, starts, ends):\n",
    "    signals = []\n",
    "    with open(f\"../output/DMS_signal/{chr}.bin\", \"rb\") as f:\n",
    "        s = np.load(f)\n",
    "    for start, end in zip(starts, ends):\n",
    "        signals += list(s[start:end])\n",
    "    return signals\n",
    "\n",
    "\n",
    "def make_constraints(signals, threshold):\n",
    "    return \"\".join([\n",
    "        \"x\" if signals[i] > threshold\n",
    "        else \".\" for i in range(len(signals))\n",
    "    ])\n",
    "\n",
    "\n",
    "def save(output_dir, rec, constraints, translate=False):\n",
    "    Path(f\"{output_dir}/{rec.id}\").mkdir(parents=True, exist_ok=True)\n",
    "    if translate:\n",
    "        with open(f\"{output_dir}/{rec.id}/protein.fasta\", \"w\") as f:\n",
    "            f.write(f\">{rec.description} translated\\n{rec.seq.translate()}\\n\")\n",
    "    with open(f\"{output_dir}/{rec.id}/nucleotide.fasta\", \"w\") as f:\n",
    "        f.write(f\">{rec.description}\\n{rec.seq}\\n\")\n",
    "    with open(f\"{output_dir}/{rec.id}/constrained.fasta\", \"w\") as f:\n",
    "        f.write(f\">{rec.description}\\n{rec.seq}\\n{''.join(constraints)}\\n\")"
   ]
  },
  {
   "cell_type": "markdown",
   "metadata": {},
   "source": [
    "### Przypisanie sygnałów dla 10 losowych mRNA"
   ]
  },
  {
   "cell_type": "code",
   "execution_count": 4,
   "metadata": {},
   "outputs": [
    {
     "data": {
      "text/plain": [
       "[['YAL049C', 'YAL049C', 'chrI', [51856], [52595]],\n",
       " ['YOL005C', 'RPB11', 'chrXV', [315814], [316175]],\n",
       " ['YMR217W', 'GUA1', 'chrXIII', [701788], [703366]],\n",
       " ['YNL326C', 'PFA3', 'chrXIV', [27336], [28345]],\n",
       " ['YOR186W', 'YOR186W', 'chrXV', [683111], [683546]]]"
      ]
     },
     "execution_count": 4,
     "metadata": {},
     "output_type": "execute_result"
    }
   ],
   "source": [
    "transcripts_path = \"../data/S288C_reference_genome_R62-1-1_20090218/orf_coding_all_R62-1-1_20090220.fasta\" # mRNA\n",
    "\n",
    "with open(transcripts_path) as f:\n",
    "    transcripts = list(SeqIO.parse(f, \"fasta\"))\n",
    "infos = parse_gene_infos(transcripts)\n",
    "random.shuffle(infos)\n",
    "infos[:5]"
   ]
  },
  {
   "cell_type": "code",
   "execution_count": 5,
   "metadata": {},
   "outputs": [],
   "source": [
    "processed = 0\n",
    "for id, _, chr, starts, ends in infos:\n",
    "    if chr == \"chrplasmid\":\n",
    "        continue\n",
    "    if processed == 20:\n",
    "        break\n",
    "    rec = get_rec(transcripts, id)\n",
    "    signals = get_signals(chr, starts, ends)\n",
    "    constraints = make_constraints(signals, DMS_THRESHOLD)\n",
    "    if constraints.count(\"x\") / len(constraints) < CONSTRAINED_THRESHOLD:\n",
    "        continue\n",
    "    save(\"../output/structures/mRNA/\", rec, constraints, translate=True)\n",
    "    processed += 1"
   ]
  },
  {
   "cell_type": "markdown",
   "metadata": {},
   "source": [
    "### Przypisanie sygnałów dla 10 losowych tRNA"
   ]
  },
  {
   "cell_type": "code",
   "execution_count": 6,
   "metadata": {},
   "outputs": [
    {
     "data": {
      "text/plain": [
       "[['tT(UGU)G1', 'tT(UGU)G1', 'chrVII', [661752], [661824]],\n",
       " ['tT(CGU)K', 'TRT2', 'chrXI', [46736], [46806]],\n",
       " ['tV(AAC)J', 'tV(AAC)J', 'chrX', [378353], [378427]],\n",
       " ['tG(GCC)E', 'tG(GCC)E', 'chrV', [61890], [61959]],\n",
       " ['tT(AGU)N2', 'tT(AGU)N2', 'chrXIV', [560694], [560765]]]"
      ]
     },
     "execution_count": 6,
     "metadata": {},
     "output_type": "execute_result"
    }
   ],
   "source": [
    "transcripts_path = \"../data/S288C_reference_genome_R62-1-1_20090218/rna_coding_R62-1-1_20090220.fasta\" # tRNA / rRNA\n",
    "\n",
    "with open(transcripts_path) as f:\n",
    "    transcripts = list(SeqIO.parse(f, \"fasta\"))\n",
    "transcripts = [rec for rec in transcripts if filter(rec, \"tRNA\")]\n",
    "infos = parse_gene_infos(transcripts)\n",
    "random.shuffle(infos)\n",
    "infos[:5]"
   ]
  },
  {
   "cell_type": "code",
   "execution_count": 7,
   "metadata": {},
   "outputs": [],
   "source": [
    "processed = 0\n",
    "for id, name, chr, starts, ends in infos:\n",
    "    if processed == 10:\n",
    "        break\n",
    "    rec = get_rec(transcripts, id)\n",
    "    if rec is None:\n",
    "        continue\n",
    "    signals = get_signals(chr, starts, ends)\n",
    "    constraints = make_constraints(signals, DMS_THRESHOLD)\n",
    "    if constraints.count(\"x\") / len(constraints) < CONSTRAINED_THRESHOLD:\n",
    "        continue\n",
    "    save(\"../output/structures/tRNA/\", rec, constraints)\n",
    "    processed += 1"
   ]
  },
  {
   "cell_type": "markdown",
   "metadata": {},
   "source": [
    "### Przypisanie sygnałów dla 10 losowych rRNA"
   ]
  },
  {
   "cell_type": "code",
   "execution_count": 8,
   "metadata": {},
   "outputs": [
    {
     "data": {
      "text/plain": [
       "[['snR61', 'SNR61', 'chrXII', [794486], [794574]],\n",
       " ['RDN25-2', 'RDN25-2', 'chrXII', [460924], [464318]],\n",
       " ['snR81', 'SNR81', 'chrXV', [234344], [234545]],\n",
       " ['RDN58-1', 'RDN58-1', 'chrXII', [455415], [455571]],\n",
       " ['snR82', 'SNR82', 'chrVII', [316790], [317058]]]"
      ]
     },
     "execution_count": 8,
     "metadata": {},
     "output_type": "execute_result"
    }
   ],
   "source": [
    "transcripts_path = \"../data/S288C_reference_genome_R62-1-1_20090218/rna_coding_R62-1-1_20090220.fasta\" # tRNA / rRNA\n",
    "\n",
    "with open(transcripts_path) as f:\n",
    "    transcripts = list(SeqIO.parse(f, \"fasta\"))\n",
    "transcripts = [rec for rec in transcripts if filter(rec, \"rRNA\")]\n",
    "infos = parse_gene_infos(transcripts)\n",
    "random.shuffle(infos)\n",
    "infos[:5]"
   ]
  },
  {
   "cell_type": "code",
   "execution_count": 9,
   "metadata": {},
   "outputs": [],
   "source": [
    "processed = 0\n",
    "for id, name, chr, starts, ends in infos:\n",
    "    if processed == 10:\n",
    "        break\n",
    "    rec = get_rec(transcripts, id)\n",
    "    if rec is None:\n",
    "        continue\n",
    "    signals = get_signals(chr, starts, ends)\n",
    "    constraints = make_constraints(signals, DMS_THRESHOLD)\n",
    "    if constraints.count(\"x\") / len(constraints) < CONSTRAINED_THRESHOLD:\n",
    "        continue\n",
    "    save(\"../output/structures/rRNA/\", rec, constraints)\n",
    "    processed += 1"
   ]
  }
 ],
 "metadata": {
  "kernelspec": {
   "display_name": "mgr",
   "language": "python",
   "name": "python3"
  },
  "language_info": {
   "codemirror_mode": {
    "name": "ipython",
    "version": 3
   },
   "file_extension": ".py",
   "mimetype": "text/x-python",
   "name": "python",
   "nbconvert_exporter": "python",
   "pygments_lexer": "ipython3",
   "version": "3.10.8"
  }
 },
 "nbformat": 4,
 "nbformat_minor": 2
}
