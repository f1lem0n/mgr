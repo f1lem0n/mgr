{
 "cells": [
  {
   "cell_type": "code",
   "execution_count": 1,
   "metadata": {},
   "outputs": [],
   "source": [
    "from pathlib import Path\n",
    "import random\n",
    "import re\n",
    "\n",
    "from Bio import SeqIO\n",
    "import numpy as np"
   ]
  },
  {
   "cell_type": "code",
   "execution_count": 2,
   "metadata": {},
   "outputs": [],
   "source": [
    "THRESHOLD = 0.2"
   ]
  },
  {
   "cell_type": "code",
   "execution_count": 3,
   "metadata": {},
   "outputs": [],
   "source": [
    "def parse_gene_infos(records):\n",
    "    \"\"\"parse gene info from fasta file (for R62 genome)\"\"\"\n",
    "    infos = []\n",
    "    for rec in records:\n",
    "        gene_id = rec.id\n",
    "        name = rec.description.split(\" \")[1]\n",
    "        chr = \"chr\" + rec.description.split(\" \")[4]\n",
    "        coords = rec.description.split(\" \")[6]\n",
    "        starts = []\n",
    "        ends = []\n",
    "        for c in coords[:-1].split(\",\"):\n",
    "            start = int(c.split(\"-\")[0]) - 1\n",
    "            end = int(c.split(\"-\")[1])\n",
    "            if start > end:\n",
    "                start, end = end, start\n",
    "            starts.append(start)\n",
    "            ends.append(end)\n",
    "        infos.append([gene_id, name, chr, starts, ends])\n",
    "    return infos\n",
    "\n",
    "def filter(records, query):\n",
    "    regex = re.compile(query)\n",
    "    for rec in records:\n",
    "        if bool(regex.search(rec.description)):\n",
    "            yield rec\n",
    "\n",
    "def find_save_rec(transcripts, gene_name, transcript_id, translate, output_dir):\n",
    "    for rec in transcripts:\n",
    "        if rec.id == transcript_id:\n",
    "            Path(f\"{output_dir}/{gene_name}\").mkdir(parents=True, exist_ok=True)\n",
    "            with open(f\"{output_dir}/{gene_name}/nucleotide.fasta\", \"w\") as f:\n",
    "                f.write(f\">{rec.description}\\n{rec.seq}\\n\")\n",
    "            if translate:\n",
    "                with open(f\"{output_dir}/{gene_name}/protein.fasta\", \"w\") as f:\n",
    "                    f.write(f\">{rec.description} translated\\n{rec.seq.translate()}\\n\")\n",
    "            return rec\n",
    "\n",
    "\n",
    "def get_signals(chr, starts, ends):\n",
    "    signals = []\n",
    "    with open(f\"../output/DMS_signal/{chr}.bin\", \"rb\") as f:\n",
    "        s = np.load(f)\n",
    "    for start, end in zip(starts, ends):\n",
    "        signals += list(s[start:end])\n",
    "    return signals\n",
    "\n",
    "\n",
    "def make_save_constraints(signals, rec, gene_name, output_dir, threshold):\n",
    "    constraints = [\n",
    "        \"x\" if signals[i] > threshold\n",
    "        else \".\" for i in range(len(signals))\n",
    "    ]\n",
    "    with open(f\"{output_dir}/{gene_name}/constrained.fasta\", \"w\") as f:\n",
    "        f.write(f\">{rec.description}\\n{rec.seq}\\n{''.join(constraints)}\\n\")"
   ]
  },
  {
   "cell_type": "markdown",
   "metadata": {},
   "source": [
    "### Przypisanie sygnałów dla 10 losowych mRNA"
   ]
  },
  {
   "cell_type": "code",
   "execution_count": 4,
   "metadata": {},
   "outputs": [
    {
     "data": {
      "text/plain": [
       "[['YAL001C', 'TFC3', 'chrI', [151099, 147596], [151167, 151007]],\n",
       " ['YAL002W', 'VPS8', 'chrI', [143708], [147533]],\n",
       " ['YAL003W', 'EFB1', 'chrI', [142175, 142621], [142255, 143162]],\n",
       " ['YAL004W', 'YAL004W', 'chrI', [140761], [141409]],\n",
       " ['YAL005C', 'SSA1', 'chrI', [139505], [141432]]]"
      ]
     },
     "execution_count": 4,
     "metadata": {},
     "output_type": "execute_result"
    }
   ],
   "source": [
    "transcripts_path = \"../data/S288C_reference_genome_R62-1-1_20090218/orf_coding_all_R62-1-1_20090220.fasta\" # mRNA\n",
    "\n",
    "with open(transcripts_path) as f:\n",
    "    records = list(SeqIO.parse(f, \"fasta\"))\n",
    "infos = parse_gene_infos(records)\n",
    "infos[:5]"
   ]
  },
  {
   "cell_type": "code",
   "execution_count": 5,
   "metadata": {},
   "outputs": [
    {
     "data": {
      "text/plain": [
       "['YGR064W',\n",
       " 'YDL240W',\n",
       " 'YDR492W',\n",
       " 'YLR265C',\n",
       " 'YIL096C',\n",
       " 'YPL137C',\n",
       " 'YLR255C',\n",
       " 'YER171W',\n",
       " 'YLR227W-B',\n",
       " 'YOL040C']"
      ]
     },
     "execution_count": 5,
     "metadata": {},
     "output_type": "execute_result"
    }
   ],
   "source": [
    "genes_to_process = random.sample(infos, k=10)\n",
    "[id for id, _, _, _, _ in genes_to_process]"
   ]
  },
  {
   "cell_type": "code",
   "execution_count": 6,
   "metadata": {},
   "outputs": [],
   "source": [
    "for id, name, chr, starts, ends in genes_to_process:\n",
    "    transcripts = SeqIO.parse(transcripts_path, \"fasta\")\n",
    "    rec = find_save_rec(transcripts, name, id, True, \"../output/structures/mRNA\")\n",
    "    signals = get_signals(chr, starts, ends)\n",
    "    make_save_constraints(signals, rec, name, \"../output/structures/mRNA\", THRESHOLD)"
   ]
  },
  {
   "cell_type": "markdown",
   "metadata": {},
   "source": [
    "### Przypisanie sygnałów dla 10 losowych tRNA"
   ]
  },
  {
   "cell_type": "code",
   "execution_count": 7,
   "metadata": {},
   "outputs": [
    {
     "data": {
      "text/plain": [
       "[['tA(UGC)A', 'tA(UGC)A', 'chrI', [166267], [166340]],\n",
       " ['tL(CAA)A', 'SUP56', 'chrI', [181134, 181204], [181172, 181248]],\n",
       " ['tP(UGG)A', 'TRN1', 'chrI', [139153, 139220], [139189, 139256]],\n",
       " ['tS(AGA)A', 'tS(AGA)A', 'chrI', [182516], [182596]],\n",
       " ['tC(GCA)B', 'tC(GCA)B', 'chrII', [643002], [643072]]]"
      ]
     },
     "execution_count": 7,
     "metadata": {},
     "output_type": "execute_result"
    }
   ],
   "source": [
    "transcripts_path = \"../data/S288C_reference_genome_R62-1-1_20090218/rna_coding_R62-1-1_20090220.fasta\" # tRNA / rRNA\n",
    "\n",
    "with open(transcripts_path) as f:\n",
    "    records = list(SeqIO.parse(f, \"fasta\"))\n",
    "records = filter(records, \"tRNA\")\n",
    "infos = parse_gene_infos(records)\n",
    "infos[:5]"
   ]
  },
  {
   "cell_type": "code",
   "execution_count": 8,
   "metadata": {},
   "outputs": [
    {
     "data": {
      "text/plain": [
       "['tC(GCA)P1',\n",
       " 'tL(UAA)B2',\n",
       " 'tA(UGC)G',\n",
       " 'tK(UUU)P',\n",
       " 'tE(UUC)E2',\n",
       " 'tM(CAU)M',\n",
       " 'tA(AGC)L',\n",
       " 'tR(ACG)L',\n",
       " 'tG(GCC)O2',\n",
       " 'tW(CCA)M']"
      ]
     },
     "execution_count": 8,
     "metadata": {},
     "output_type": "execute_result"
    }
   ],
   "source": [
    "genes_to_process = random.sample(infos, k=10)\n",
    "[id for id, _, _, _, _ in genes_to_process]"
   ]
  },
  {
   "cell_type": "code",
   "execution_count": 9,
   "metadata": {},
   "outputs": [],
   "source": [
    "for id, name, chr, starts, ends in genes_to_process:\n",
    "    transcripts = SeqIO.parse(transcripts_path, \"fasta\")\n",
    "    transcripts = filter(transcripts, \"tRNA\")\n",
    "    rec = find_save_rec(transcripts, name, id, False, \"../output/structures/tRNA\")\n",
    "    signals = get_signals(chr, starts, ends)\n",
    "    make_save_constraints(signals, rec, name, \"../output/structures/tRNA\", THRESHOLD)"
   ]
  },
  {
   "cell_type": "markdown",
   "metadata": {},
   "source": [
    "### Przypisanie sygnałów dla 10 losowych rRNA"
   ]
  },
  {
   "cell_type": "code",
   "execution_count": 10,
   "metadata": {},
   "outputs": [
    {
     "data": {
      "text/plain": [
       "[['HRA1', 'HRA1', 'chrI', [99305], [99869]],\n",
       " ['snR18', 'SNR18', 'chrI', [142368], [142470]],\n",
       " ['snR161', 'SNR161', 'chrII', [307185], [307344]],\n",
       " ['snR56', 'SNR56', 'chrII', [88187], [88275]],\n",
       " ['snR189', 'SNR189', 'chrIII', [178606], [178793]]]"
      ]
     },
     "execution_count": 10,
     "metadata": {},
     "output_type": "execute_result"
    }
   ],
   "source": [
    "transcripts_path = \"../data/S288C_reference_genome_R62-1-1_20090218/rna_coding_R62-1-1_20090220.fasta\" # tRNA / rRNA\n",
    "\n",
    "with open(transcripts_path) as f:\n",
    "    records = list(SeqIO.parse(f, \"fasta\"))\n",
    "records = filter(records, \"rRNA\")\n",
    "infos = parse_gene_infos(records)\n",
    "infos[:5]"
   ]
  },
  {
   "cell_type": "code",
   "execution_count": 11,
   "metadata": {},
   "outputs": [
    {
     "data": {
      "text/plain": [
       "['RDN37-1',\n",
       " 'snR74',\n",
       " 'snR35',\n",
       " 'snR34',\n",
       " 'snR78',\n",
       " 'snR31',\n",
       " 'RDN25-2',\n",
       " 'snR86',\n",
       " 'snR47',\n",
       " 'RDN18-1']"
      ]
     },
     "execution_count": 11,
     "metadata": {},
     "output_type": "execute_result"
    }
   ],
   "source": [
    "genes_to_process = random.sample(infos, k=10)\n",
    "[id for id, _, _, _, _ in genes_to_process]"
   ]
  },
  {
   "cell_type": "code",
   "execution_count": 12,
   "metadata": {},
   "outputs": [],
   "source": [
    "for id, name, chr, starts, ends in genes_to_process:\n",
    "    transcripts = SeqIO.parse(transcripts_path, \"fasta\")\n",
    "    transcripts = filter(transcripts, \"rRNA\")\n",
    "    rec = find_save_rec(transcripts, name, id, False, \"../output/structures/rRNA\")\n",
    "    signals = get_signals(chr, starts, ends)\n",
    "    make_save_constraints(signals, rec, name, \"../output/structures/rRNA\", THRESHOLD)"
   ]
  }
 ],
 "metadata": {
  "kernelspec": {
   "display_name": "mgr",
   "language": "python",
   "name": "python3"
  },
  "language_info": {
   "codemirror_mode": {
    "name": "ipython",
    "version": 3
   },
   "file_extension": ".py",
   "mimetype": "text/x-python",
   "name": "python",
   "nbconvert_exporter": "python",
   "pygments_lexer": "ipython3",
   "version": "3.10.8"
  }
 },
 "nbformat": 4,
 "nbformat_minor": 2
}
