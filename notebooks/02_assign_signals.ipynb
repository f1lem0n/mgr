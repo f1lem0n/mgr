{
 "cells": [
  {
   "cell_type": "code",
   "execution_count": 1,
   "metadata": {},
   "outputs": [],
   "source": [
    "from pathlib import Path\n",
    "import random\n",
    "\n",
    "from Bio import SeqIO\n",
    "import numpy as np"
   ]
  },
  {
   "cell_type": "code",
   "execution_count": 2,
   "metadata": {},
   "outputs": [],
   "source": [
    "THRESHOLD = 0.2"
   ]
  },
  {
   "cell_type": "code",
   "execution_count": 3,
   "metadata": {},
   "outputs": [],
   "source": [
    "def parse_gene_infos(records, filter=None):\n",
    "    \"\"\"parse gene info from fasta file (for R62 genome)\"\"\"\n",
    "    infos = []\n",
    "    for rec in records:\n",
    "        if filter is not None:\n",
    "            if filter not in rec.description:\n",
    "                continue\n",
    "        gene_id = rec.id\n",
    "        name = rec.description.split(\" \")[1]\n",
    "        chr = \"chr\" + rec.description.split(\" \")[4]\n",
    "        coords = rec.description.split(\" \")[6]\n",
    "        if coords.count(\"-\") > 1:\n",
    "            continue\n",
    "        coords = coords.replace(\",\", \"\")\n",
    "        start = int(coords.split(\"-\")[0]) - 1\n",
    "        end = int(coords.split(\"-\")[1])\n",
    "        if start > end:\n",
    "            continue\n",
    "        infos.append([gene_id, name, chr, start, end])\n",
    "    return infos\n",
    "\n",
    "def find_save_rec(transcripts, gene_name, transcript_id):\n",
    "    for rec in transcripts:\n",
    "        if rec.id == transcript_id:\n",
    "            Path(f\"../output/{gene_name}\").mkdir(parents=True, exist_ok=True)\n",
    "            with open(f\"../output/{gene_name}/seq.fasta\", \"w\") as f:\n",
    "                f.write(f\">{rec.id}\\n{rec.seq}\\n\")\n",
    "            return rec\n",
    "\n",
    "\n",
    "def get_signals(chr, start, end):\n",
    "    with open(f\"../data/dms_signal/processed/{chr}.bin\", \"rb\") as f:\n",
    "        signals = np.load(f)\n",
    "    return signals[start:end]\n",
    "\n",
    "\n",
    "def make_save_constraints(signals, rec, gene_name, threshold=0.2):\n",
    "    constraints = [\n",
    "        \"x\" if signals[i] > threshold\n",
    "        else \".\" for i in range(len(signals))\n",
    "    ]\n",
    "    with open(f\"../output/{gene_name}/constrained.fasta\", \"w\") as f:\n",
    "        f.write(f\">{rec.id}\\n{rec.seq}\\n{''.join(constraints)}\\n\")"
   ]
  },
  {
   "cell_type": "code",
   "execution_count": 4,
   "metadata": {},
   "outputs": [
    {
     "data": {
      "text/plain": [
       "[['YAL002W', 'VPS8', 'chrI', 143708, 147533],\n",
       " ['YAL004W', 'YAL004W', 'chrI', 140761, 141409],\n",
       " ['YAL008W', 'FUN14', 'chrI', 136915, 137512],\n",
       " ['YAL009W', 'SPO7', 'chrI', 135855, 136635],\n",
       " ['YAL011W', 'SWC3', 'chrI', 132201, 134079]]"
      ]
     },
     "execution_count": 4,
     "metadata": {},
     "output_type": "execute_result"
    }
   ],
   "source": [
    "with open(\"../data/R62/rna.fna\") as f:\n",
    "    records = list(SeqIO.parse(f, \"fasta\"))\n",
    "infos = parse_gene_infos(records)\n",
    "infos[:5]"
   ]
  },
  {
   "cell_type": "code",
   "execution_count": 5,
   "metadata": {},
   "outputs": [
    {
     "data": {
      "text/plain": [
       "['YJL034W',\n",
       " 'YKR041W',\n",
       " 'YOL130W',\n",
       " 'YDR418W',\n",
       " 'YDR206W',\n",
       " 'YJR116W',\n",
       " 'YLR296W',\n",
       " 'YNR030W',\n",
       " 'YBR142W',\n",
       " 'YMR035W']"
      ]
     },
     "execution_count": 5,
     "metadata": {},
     "output_type": "execute_result"
    }
   ],
   "source": [
    "genes_to_process = random.sample(infos, k=10)\n",
    "# genes_to_process = []  # set manually\n",
    "[id for id, _, _, _, _ in genes_to_process]"
   ]
  },
  {
   "cell_type": "code",
   "execution_count": 6,
   "metadata": {},
   "outputs": [],
   "source": [
    "for id, name, chr, start, end in genes_to_process:\n",
    "    start = int(start)\n",
    "    transcripts = SeqIO.parse(\"../data/R62/rna.fna\", \"fasta\")\n",
    "    rec = find_save_rec(transcripts, name, id)\n",
    "    signals = get_signals(chr, start, end)\n",
    "    make_save_constraints(signals, rec, name, THRESHOLD)"
   ]
  }
 ],
 "metadata": {
  "kernelspec": {
   "display_name": "mgr",
   "language": "python",
   "name": "python3"
  },
  "language_info": {
   "codemirror_mode": {
    "name": "ipython",
    "version": 3
   },
   "file_extension": ".py",
   "mimetype": "text/x-python",
   "name": "python",
   "nbconvert_exporter": "python",
   "pygments_lexer": "ipython3",
   "version": "3.10.8"
  }
 },
 "nbformat": 4,
 "nbformat_minor": 2
}
