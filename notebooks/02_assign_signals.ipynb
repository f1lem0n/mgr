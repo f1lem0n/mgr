{
 "cells": [
  {
   "cell_type": "code",
   "execution_count": 1,
   "metadata": {},
   "outputs": [],
   "source": [
    "from pathlib import Path\n",
    "import random\n",
    "import re\n",
    "\n",
    "from Bio import SeqIO\n",
    "import numpy as np"
   ]
  },
  {
   "cell_type": "code",
   "execution_count": 2,
   "metadata": {},
   "outputs": [],
   "source": [
    "DMS_THRESHOLD = 0.2\n",
    "CONSTRAINED_THRESHOLD = 0.2"
   ]
  },
  {
   "cell_type": "code",
   "execution_count": 3,
   "metadata": {},
   "outputs": [],
   "source": [
    "def parse_gene_infos(records):\n",
    "    \"\"\"parse gene info from fasta file (for R62 genome)\"\"\"\n",
    "    infos = []\n",
    "    for rec in records:\n",
    "        gene_id = rec.id\n",
    "        name = rec.description.split(\" \")[1]\n",
    "        chr = \"chr\" + rec.description.split(\" \")[4]\n",
    "        coords = rec.description.split(\" \")[6]\n",
    "        starts = []\n",
    "        ends = []\n",
    "        for c in coords[:-1].split(\",\"):\n",
    "            start = int(c.split(\"-\")[0]) - 1\n",
    "            end = int(c.split(\"-\")[1])\n",
    "            if start > end:\n",
    "                start, end = end, start\n",
    "            starts.append(start)\n",
    "            ends.append(end)\n",
    "        infos.append([gene_id, name, chr, starts, ends])\n",
    "    return infos\n",
    "\n",
    "def filter(records, query):\n",
    "    regex = re.compile(query)\n",
    "    for rec in records:\n",
    "        if bool(regex.search(rec.description)):\n",
    "            yield rec\n",
    "\n",
    "def get_rec(transcripts, transcript_id):\n",
    "    for rec in transcripts:\n",
    "        if rec.id == transcript_id:\n",
    "            return rec\n",
    "\n",
    "\n",
    "def get_signals(chr, starts, ends):\n",
    "    signals = []\n",
    "    with open(f\"../output/DMS_signal/{chr}.bin\", \"rb\") as f:\n",
    "        s = np.load(f)\n",
    "    for start, end in zip(starts, ends):\n",
    "        signals += list(s[start:end])\n",
    "    return signals\n",
    "\n",
    "\n",
    "def make_constraints(signals, threshold):\n",
    "    return \"\".join([\n",
    "        \"x\" if signals[i] > threshold\n",
    "        else \".\" for i in range(len(signals))\n",
    "    ])\n",
    "\n",
    "\n",
    "def save(output_dir, rec, constraints, translate=False):\n",
    "    Path(f\"{output_dir}/{rec.id}\").mkdir(parents=True, exist_ok=True)\n",
    "    if translate:\n",
    "        with open(f\"{output_dir}/{rec.id}/protein.fasta\", \"w\") as f:\n",
    "            f.write(f\">{rec.description} translated\\n{rec.seq.translate()}\\n\")\n",
    "    with open(f\"{output_dir}/{rec.id}/nucleotide.fasta\", \"w\") as f:\n",
    "        f.write(f\">{rec.description}\\n{rec.seq}\\n\")\n",
    "    with open(f\"{output_dir}/{rec.id}/constrained.fasta\", \"w\") as f:\n",
    "        f.write(f\">{rec.description}\\n{rec.seq}\\n{''.join(constraints)}\\n\")"
   ]
  },
  {
   "cell_type": "markdown",
   "metadata": {},
   "source": [
    "### Przypisanie sygnałów dla 10 losowych mRNA"
   ]
  },
  {
   "cell_type": "code",
   "execution_count": 4,
   "metadata": {},
   "outputs": [
    {
     "data": {
      "text/plain": [
       "[['YKL173W', 'SNU114', 'chrXI', [122521], [125548]],\n",
       " ['YML088W', 'UFO1', 'chrXIII', [92234], [94241]],\n",
       " ['YHR073W-A', 'YHR073W-A', 'chrVIII', [242869], [243046]],\n",
       " ['YLR034C', 'SMF3', 'chrXII', [210513], [211933]],\n",
       " ['YCR099C', 'YCR099C', 'chrIII', [300829], [301295]]]"
      ]
     },
     "execution_count": 4,
     "metadata": {},
     "output_type": "execute_result"
    }
   ],
   "source": [
    "transcripts_path = \"../data/S288C_reference_genome_R62-1-1_20090218/orf_coding_all_R62-1-1_20090220.fasta\" # mRNA\n",
    "\n",
    "with open(transcripts_path) as f:\n",
    "    transcripts = list(SeqIO.parse(f, \"fasta\"))\n",
    "infos = parse_gene_infos(transcripts)\n",
    "random.shuffle(infos)\n",
    "infos[:5]"
   ]
  },
  {
   "cell_type": "code",
   "execution_count": 6,
   "metadata": {},
   "outputs": [],
   "source": [
    "processed = 0\n",
    "for id, _, chr, starts, ends in infos:\n",
    "    if processed == 20:\n",
    "        break\n",
    "    rec = get_rec(transcripts, id)\n",
    "    signals = get_signals(chr, starts, ends)\n",
    "    constraints = make_constraints(signals, DMS_THRESHOLD)\n",
    "    if constraints.count(\"x\") / len(constraints) < CONSTRAINED_THRESHOLD:\n",
    "        continue\n",
    "    save(\"../output/structures/mRNA/\", rec, constraints, translate=True)\n",
    "    processed += 1"
   ]
  },
  {
   "cell_type": "markdown",
   "metadata": {},
   "source": [
    "### Przypisanie sygnałów dla 10 losowych tRNA"
   ]
  },
  {
   "cell_type": "code",
   "execution_count": null,
   "metadata": {},
   "outputs": [
    {
     "data": {
      "text/plain": [
       "[['tW(CCA)G1', 'tW(CCA)G1', 'chrVII', [287426, 287356], [287460, 287390]],\n",
       " ['tK(CUU)J', 'tK(CUU)J', 'chrX', [414958], [415031]],\n",
       " ['tK(UUU)D', 'tK(UUU)D', 'chrIV', [359576, 359636], [359613, 359672]],\n",
       " ['tF(GAA)P1', 'tF(GAA)P1', 'chrXVI', [560250, 560195], [560285, 560229]],\n",
       " ['tQ(UUG)H', 'tQ(UUG)H', 'chrVIII', [134313], [134385]]]"
      ]
     },
     "execution_count": 24,
     "metadata": {},
     "output_type": "execute_result"
    }
   ],
   "source": [
    "transcripts_path = \"../data/S288C_reference_genome_R62-1-1_20090218/rna_coding_R62-1-1_20090220.fasta\" # tRNA / rRNA\n",
    "\n",
    "with open(transcripts_path) as f:\n",
    "    transcripts = list(SeqIO.parse(f, \"fasta\"))\n",
    "transcripts = filter(transcripts, \"tRNA\")\n",
    "infos = parse_gene_infos(transcripts)\n",
    "random.shuffle(infos)\n",
    "infos[:5]"
   ]
  },
  {
   "cell_type": "code",
   "execution_count": null,
   "metadata": {},
   "outputs": [],
   "source": [
    "processed = 0\n",
    "for id, name, chr, starts, ends in infos:\n",
    "    if processed == 10:\n",
    "        break\n",
    "    rec = get_rec(transcripts, id)\n",
    "    signals = get_signals(chr, starts, ends)\n",
    "    constraints = make_constraints(signals, DMS_THRESHOLD)\n",
    "    if constraints.count(\"x\") / len(constraints) < CONSTRAINED_THRESHOLD:\n",
    "        continue\n",
    "    save(\"../output/structures/tRNA/\", name, rec, constraints, translate=True)\n",
    "    processed += 1"
   ]
  },
  {
   "cell_type": "markdown",
   "metadata": {},
   "source": [
    "### Przypisanie sygnałów dla 10 losowych rRNA"
   ]
  },
  {
   "cell_type": "code",
   "execution_count": null,
   "metadata": {},
   "outputs": [
    {
     "data": {
      "text/plain": [
       "[['snR9', 'SNR9', 'chrXV', [407948], [408133]],\n",
       " ['snR161', 'SNR161', 'chrII', [307185], [307344]],\n",
       " ['snR56', 'SNR56', 'chrII', [88187], [88275]],\n",
       " ['snR49', 'SNR49', 'chrXIV', [716121], [716286]],\n",
       " ['snR190', 'SNR190', 'chrX', [139757], [139945]]]"
      ]
     },
     "execution_count": 26,
     "metadata": {},
     "output_type": "execute_result"
    }
   ],
   "source": [
    "transcripts_path = \"../data/S288C_reference_genome_R62-1-1_20090218/rna_coding_R62-1-1_20090220.fasta\" # tRNA / rRNA\n",
    "\n",
    "with open(transcripts_path) as f:\n",
    "    transcripts = list(SeqIO.parse(f, \"fasta\"))\n",
    "transcripts = filter(transcripts, \"rRNA\")\n",
    "infos = parse_gene_infos(transcripts)\n",
    "random.shuffle(infos)\n",
    "infos[:5]"
   ]
  },
  {
   "cell_type": "code",
   "execution_count": null,
   "metadata": {},
   "outputs": [],
   "source": [
    "processed = 0\n",
    "for id, name, chr, starts, ends in infos:\n",
    "    if processed == 10:\n",
    "        break\n",
    "    rec = get_rec(transcripts, id)\n",
    "    if rec is None:\n",
    "        continue\n",
    "    signals = get_signals(chr, starts, ends)\n",
    "    constraints = make_constraints(signals, DMS_THRESHOLD)\n",
    "    if constraints.count(\"x\") / len(constraints) < CONSTRAINED_THRESHOLD:\n",
    "        continue\n",
    "    save(\"../output/structures/rRNA/\", name, rec, constraints, translate=True)\n",
    "    processed += 1"
   ]
  }
 ],
 "metadata": {
  "kernelspec": {
   "display_name": "mgr",
   "language": "python",
   "name": "python3"
  },
  "language_info": {
   "codemirror_mode": {
    "name": "ipython",
    "version": 3
   },
   "file_extension": ".py",
   "mimetype": "text/x-python",
   "name": "python",
   "nbconvert_exporter": "python",
   "pygments_lexer": "ipython3",
   "version": "3.10.8"
  }
 },
 "nbformat": 4,
 "nbformat_minor": 2
}
