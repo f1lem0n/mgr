{
 "cells": [
  {
   "cell_type": "code",
   "execution_count": 1,
   "metadata": {},
   "outputs": [],
   "source": [
    "from pathlib import Path\n",
    "import random\n",
    "import re\n",
    "\n",
    "from Bio import SeqIO\n",
    "import pandas as pd"
   ]
  },
  {
   "cell_type": "code",
   "execution_count": 2,
   "metadata": {},
   "outputs": [],
   "source": [
    "!rm -rf ../output/structures/*"
   ]
  },
  {
   "cell_type": "code",
   "execution_count": 3,
   "metadata": {},
   "outputs": [],
   "source": [
    "UNPAIRED_THRESHOLD = 0.2\n",
    "PAIRED_THRESHOLD = 0.01\n",
    "CONSTRAINED_THRESHOLD = 0"
   ]
  },
  {
   "cell_type": "code",
   "execution_count": 4,
   "metadata": {},
   "outputs": [],
   "source": [
    "def parse_gene_infos(records):\n",
    "    \"\"\"parse gene info from fasta file (for R62 genome)\"\"\"\n",
    "    infos = []\n",
    "    for rec in records:\n",
    "        name = rec.description.split(\" \")[1]\n",
    "        chr = \"chr\" + rec.description.split(\" \")[4]\n",
    "        coords = rec.description.split(\" \")[6]\n",
    "        starts = []\n",
    "        ends = []\n",
    "        for c in coords[:-1].split(\",\"):\n",
    "            start = int(c.split(\"-\")[0]) - 1\n",
    "            end = int(c.split(\"-\")[1])\n",
    "            if start > end:\n",
    "                start, end = end, start\n",
    "            starts.append(start)\n",
    "            ends.append(end)\n",
    "        infos.append([rec.id, name, chr, starts, ends, rec.seq])\n",
    "    return infos\n",
    "\n",
    "def filter(rec, query):\n",
    "    regex = re.compile(query)\n",
    "    return regex.search(rec.description)\n",
    "\n",
    "def get_rec(transcripts, transcript_id):\n",
    "    for rec in transcripts:\n",
    "        if rec.id == transcript_id:\n",
    "            return rec\n",
    "\n",
    "\n",
    "def get_signals(chr, seq, starts, ends):\n",
    "    signals = []\n",
    "    df = pd.read_csv(f\"../output/DMS_signal/{chr}.tsv\", sep=\"\\t\")\n",
    "    refseq = \"\"\n",
    "    for start, end in zip(starts, ends):\n",
    "        signal = df[\"signal\"].values[start:end]\n",
    "        refseq += \"\".join(df[\"base\"].values[start:end])\n",
    "        signals += list(signal)\n",
    "    try:\n",
    "        assert str(seq) == refseq\n",
    "    except AssertionError:\n",
    "        return None\n",
    "    return signals\n",
    "\n",
    "\n",
    "def make_constraint(signals, seq, unpaired_threshold, paired_threshold):\n",
    "    constraint = []\n",
    "    for signal, nt in zip(signals, seq):\n",
    "        if signal > unpaired_threshold:\n",
    "            constraint.append(\"x\")\n",
    "        elif signal < paired_threshold and nt in \"AC\":\n",
    "            constraint.append(\"|\")\n",
    "        else:\n",
    "            constraint.append(\".\")\n",
    "    return \"\".join(constraint)\n",
    "\n",
    "\n",
    "def save(output_dir, rec, constraints, translate=False):\n",
    "    Path(f\"{output_dir}/{rec.id}\").mkdir(parents=True, exist_ok=True)\n",
    "    if translate:\n",
    "        with open(f\"{output_dir}/{rec.id}/protein.fasta\", \"w\") as f:\n",
    "            f.write(f\">{rec.description} translated\\n{rec.seq.translate()}\\n\")\n",
    "    with open(f\"{output_dir}/{rec.id}/nucleotide.fasta\", \"w\") as f:\n",
    "        f.write(f\">{rec.description}\\n{rec.seq}\\n\")\n",
    "    with open(f\"{output_dir}/{rec.id}/constrained.fasta\", \"w\") as f:\n",
    "        f.write(f\">{rec.description}\\n{rec.seq}\\n{''.join(constraints)}\\n\")"
   ]
  },
  {
   "cell_type": "markdown",
   "metadata": {},
   "source": [
    "### Przypisanie sygnałów dla 10 losowych mRNA"
   ]
  },
  {
   "cell_type": "code",
   "execution_count": 5,
   "metadata": {},
   "outputs": [],
   "source": [
    "transcripts_path = \"../data/S288C_reference_genome_R62-1-1_20090218/orf_coding_all_R62-1-1_20090220.fasta\" # mRNA\n",
    "\n",
    "with open(transcripts_path) as f:\n",
    "    transcripts = list(SeqIO.parse(f, \"fasta\"))\n",
    "infos = parse_gene_infos(transcripts)\n",
    "random.shuffle(infos)"
   ]
  },
  {
   "cell_type": "code",
   "execution_count": 6,
   "metadata": {},
   "outputs": [],
   "source": [
    "processed = 0\n",
    "for id, _, chr, starts, ends, seq in infos:\n",
    "    if chr == \"chrplasmid\":\n",
    "        continue\n",
    "    if processed == 10:\n",
    "        break\n",
    "    rec = get_rec(transcripts, id)\n",
    "    signals = get_signals(chr, seq, starts, ends)\n",
    "    if signals is None:\n",
    "        continue\n",
    "    constraint = make_constraint(signals, seq, UNPAIRED_THRESHOLD, PAIRED_THRESHOLD)\n",
    "    if constraint.count(\"x\") / len(constraint) < CONSTRAINED_THRESHOLD:\n",
    "        continue\n",
    "    save(\"../output/structures/mRNA/\", rec, constraint, translate=True)\n",
    "    processed += 1"
   ]
  },
  {
   "cell_type": "markdown",
   "metadata": {},
   "source": [
    "### Przypisanie sygnałów dla 10 losowych tRNA"
   ]
  },
  {
   "cell_type": "code",
   "execution_count": 7,
   "metadata": {},
   "outputs": [
    {
     "data": {
      "text/plain": [
       "[['tS(GCU)L',\n",
       "  'tS(GCU)L',\n",
       "  'chrXII',\n",
       "  [784353, 784409],\n",
       "  [784389, 784453],\n",
       "  Seq('GTCCCAGTGGCCGAGTGGTTAAGGCGATGCCTGCTAGGCATTGGGTTTTACCTG...ACG')],\n",
       " ['tR(ACG)D',\n",
       "  'tR(ACG)D',\n",
       "  'chrIV',\n",
       "  [619967],\n",
       "  [620038],\n",
       "  Seq('TTCCTCGTGGCCCAATGGTCACGGCGTCTGGCTACGAACCAGAAGATTCCAGGT...AAG')],\n",
       " ['tD(GUC)J3',\n",
       "  'tD(GUC)J3',\n",
       "  'chrX',\n",
       "  [374418],\n",
       "  [374488],\n",
       "  Seq('TCCGTGATAGTTTAATGGTCAGAATGGGCGCTTGTCGCGTGCCAGATCGGGGTT...GAG')],\n",
       " ['tH(GUG)H',\n",
       "  'tH(GUG)H',\n",
       "  'chrVIII',\n",
       "  [62752],\n",
       "  [62824],\n",
       "  Seq('GCCATCTTAGTATAGTGGTTAGTACACATCGTTGTGGCCGATGAAACCCTGGTT...GCA')],\n",
       " ['tK(UUU)K',\n",
       "  'tK(UUU)K',\n",
       "  'chrXI',\n",
       "  [578606, 578666],\n",
       "  [578643, 578702],\n",
       "  Seq('TCCTTGTTAGCTCAGTTGGTAGAGCGTTCGGCTTTTAACCGAAATGTCAGGGGT...GAG')]]"
      ]
     },
     "execution_count": 7,
     "metadata": {},
     "output_type": "execute_result"
    }
   ],
   "source": [
    "transcripts_path = \"../data/S288C_reference_genome_R62-1-1_20090218/rna_coding_R62-1-1_20090220.fasta\" # tRNA / rRNA\n",
    "\n",
    "with open(transcripts_path) as f:\n",
    "    transcripts = list(SeqIO.parse(f, \"fasta\"))\n",
    "transcripts = [rec for rec in transcripts if filter(rec, \"tRNA\")]\n",
    "infos = parse_gene_infos(transcripts)\n",
    "random.shuffle(infos)\n",
    "infos[:5]"
   ]
  },
  {
   "cell_type": "code",
   "execution_count": 8,
   "metadata": {},
   "outputs": [],
   "source": [
    "processed = 0\n",
    "for id, name, chr, starts, ends, seq in infos:\n",
    "    if processed == 10:\n",
    "        break\n",
    "    rec = get_rec(transcripts, id)\n",
    "    if rec is None:\n",
    "        continue\n",
    "    signals = get_signals(chr, seq, starts, ends)\n",
    "    if signals is None:\n",
    "        continue\n",
    "    constraint = make_constraint(signals, seq, UNPAIRED_THRESHOLD, PAIRED_THRESHOLD)\n",
    "    if constraint.count(\"x\") / len(constraint) < CONSTRAINED_THRESHOLD:\n",
    "        continue\n",
    "    save(\"../output/structures/tRNA/\", rec, constraint)\n",
    "    processed += 1"
   ]
  },
  {
   "cell_type": "markdown",
   "metadata": {},
   "source": [
    "### Przypisanie sygnałów dla 10 losowych rRNA"
   ]
  },
  {
   "cell_type": "code",
   "execution_count": 9,
   "metadata": {},
   "outputs": [
    {
     "data": {
      "text/plain": [
       "[['snR56',\n",
       "  'SNR56',\n",
       "  'chrII',\n",
       "  [88187],\n",
       "  [88275],\n",
       "  Seq('TTAACATGATGAAAAAATATATTAACACAGACCTGTACTGAACTTTTCGAAGTT...ACT')],\n",
       " ['snR66',\n",
       "  'SNR66',\n",
       "  'chrXIV',\n",
       "  [586090],\n",
       "  [586176],\n",
       "  Seq('ATCAAATGATGAAATACCAATGCAACAGAGTCAAGCTCTGAGTTTCAAAAAGAA...ACC')],\n",
       " ['snR87',\n",
       "  'SNR87',\n",
       "  'chrXI',\n",
       "  [430673],\n",
       "  [430780],\n",
       "  Seq('GTAACTGAATGATGATATAATTTGCGATCTAGGGCTAATCACTTGGAACACCGC...TTC')],\n",
       " ['snR53',\n",
       "  'SNR53',\n",
       "  'chrV',\n",
       "  [61698],\n",
       "  [61789],\n",
       "  Seq('TTTGATGATGATTACACTCCATGCTAATCATGAACGTGTTCGATGTAAATTTGA...AAA')],\n",
       " ['snR82',\n",
       "  'SNR82',\n",
       "  'chrVII',\n",
       "  [316790],\n",
       "  [317058],\n",
       "  Seq('ATGGCTCTTCAACACATTTCAACATGTTCAAGTAATTTGTGTTAGTGGATGACC...TTT')]]"
      ]
     },
     "execution_count": 9,
     "metadata": {},
     "output_type": "execute_result"
    }
   ],
   "source": [
    "transcripts_path = \"../data/S288C_reference_genome_R62-1-1_20090218/rna_coding_R62-1-1_20090220.fasta\" # tRNA / rRNA\n",
    "\n",
    "with open(transcripts_path) as f:\n",
    "    transcripts = list(SeqIO.parse(f, \"fasta\"))\n",
    "transcripts = [rec for rec in transcripts if filter(rec, \"rRNA\")]\n",
    "infos = parse_gene_infos(transcripts)\n",
    "random.shuffle(infos)\n",
    "infos[:5]"
   ]
  },
  {
   "cell_type": "code",
   "execution_count": 10,
   "metadata": {},
   "outputs": [],
   "source": [
    "processed = 0\n",
    "for id, name, chr, starts, ends, seq in infos:\n",
    "    if processed == 10:\n",
    "        break\n",
    "    rec = get_rec(transcripts, id)\n",
    "    if rec is None:\n",
    "        continue\n",
    "    signals = get_signals(chr, seq, starts, ends)\n",
    "    if signals is None:\n",
    "        continue\n",
    "    constraint = make_constraint(signals, seq, UNPAIRED_THRESHOLD, PAIRED_THRESHOLD)\n",
    "    if constraint.count(\"x\") / len(constraint) < CONSTRAINED_THRESHOLD:\n",
    "        continue\n",
    "    save(\"../output/structures/rRNA/\", rec, constraint)\n",
    "    processed += 1"
   ]
  }
 ],
 "metadata": {
  "kernelspec": {
   "display_name": "mgr",
   "language": "python",
   "name": "python3"
  },
  "language_info": {
   "codemirror_mode": {
    "name": "ipython",
    "version": 3
   },
   "file_extension": ".py",
   "mimetype": "text/x-python",
   "name": "python",
   "nbconvert_exporter": "python",
   "pygments_lexer": "ipython3",
   "version": "3.10.8"
  }
 },
 "nbformat": 4,
 "nbformat_minor": 2
}
