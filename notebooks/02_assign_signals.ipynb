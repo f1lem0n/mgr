{
 "cells": [
  {
   "cell_type": "code",
   "execution_count": 12,
   "metadata": {},
   "outputs": [],
   "source": [
    "from Bio import SeqIO\n",
    "import pandas as pd\n",
    "from pathlib import Path"
   ]
  },
  {
   "cell_type": "code",
   "execution_count": 13,
   "metadata": {},
   "outputs": [
    {
     "data": {
      "text/plain": [
       "array(['chrI', 'chrII', 'chrIII', 'chrIV', 'chrIX', 'chrMito', 'chrV',\n",
       "       'chrVI', 'chrVII', 'chrVIII', 'chrX', 'chrXI', 'chrXII', 'chrXIII',\n",
       "       'chrXIV', 'chrXV', 'chrXVI'], dtype=object)"
      ]
     },
     "execution_count": 13,
     "metadata": {},
     "output_type": "execute_result"
    }
   ],
   "source": [
    "df = pd.read_csv(\"../data/dms_signal/combined.tsv\", sep=\"\\t\")\n",
    "df[\"chr\"].unique()"
   ]
  },
  {
   "cell_type": "code",
   "execution_count": 14,
   "metadata": {},
   "outputs": [],
   "source": [
    "GENE_NAME = \"ASH1\"\n",
    "CHR = \"chrXI\"\n",
    "TRANSCRIPT_ID = \"NM_001179751.1\"\n",
    "TRANSCRIPT_START = 94499\n",
    "THRESHOLD = 0.2"
   ]
  },
  {
   "cell_type": "code",
   "execution_count": 15,
   "metadata": {},
   "outputs": [],
   "source": [
    "# GENE_NAME = \"HAC1\"\n",
    "# CHR = \"chrVI\"\n",
    "# TRANSCRIPT_ID = \"NM_001179935.1\"\n",
    "# TRANSCRIPT_START = 75179\n",
    "# THRESHOLD = 0.2"
   ]
  },
  {
   "cell_type": "code",
   "execution_count": 16,
   "metadata": {},
   "outputs": [
    {
     "data": {
      "text/html": [
       "<div>\n",
       "<style scoped>\n",
       "    .dataframe tbody tr th:only-of-type {\n",
       "        vertical-align: middle;\n",
       "    }\n",
       "\n",
       "    .dataframe tbody tr th {\n",
       "        vertical-align: top;\n",
       "    }\n",
       "\n",
       "    .dataframe thead th {\n",
       "        text-align: right;\n",
       "    }\n",
       "</style>\n",
       "<table border=\"1\" class=\"dataframe\">\n",
       "  <thead>\n",
       "    <tr style=\"text-align: right;\">\n",
       "      <th></th>\n",
       "      <th>chr</th>\n",
       "      <th>pos</th>\n",
       "      <th>signal</th>\n",
       "    </tr>\n",
       "  </thead>\n",
       "  <tbody>\n",
       "    <tr>\n",
       "      <th>1323923</th>\n",
       "      <td>chrXI</td>\n",
       "      <td>3079</td>\n",
       "      <td>1.0</td>\n",
       "    </tr>\n",
       "    <tr>\n",
       "      <th>1323924</th>\n",
       "      <td>chrXI</td>\n",
       "      <td>3250</td>\n",
       "      <td>1.0</td>\n",
       "    </tr>\n",
       "    <tr>\n",
       "      <th>1323925</th>\n",
       "      <td>chrXI</td>\n",
       "      <td>3267</td>\n",
       "      <td>1.0</td>\n",
       "    </tr>\n",
       "    <tr>\n",
       "      <th>1323926</th>\n",
       "      <td>chrXI</td>\n",
       "      <td>3269</td>\n",
       "      <td>1.0</td>\n",
       "    </tr>\n",
       "    <tr>\n",
       "      <th>1323927</th>\n",
       "      <td>chrXI</td>\n",
       "      <td>3278</td>\n",
       "      <td>1.0</td>\n",
       "    </tr>\n",
       "    <tr>\n",
       "      <th>...</th>\n",
       "      <td>...</td>\n",
       "      <td>...</td>\n",
       "      <td>...</td>\n",
       "    </tr>\n",
       "    <tr>\n",
       "      <th>1464550</th>\n",
       "      <td>chrXI</td>\n",
       "      <td>664843</td>\n",
       "      <td>1.0</td>\n",
       "    </tr>\n",
       "    <tr>\n",
       "      <th>1464551</th>\n",
       "      <td>chrXI</td>\n",
       "      <td>664845</td>\n",
       "      <td>1.0</td>\n",
       "    </tr>\n",
       "    <tr>\n",
       "      <th>1464552</th>\n",
       "      <td>chrXI</td>\n",
       "      <td>664849</td>\n",
       "      <td>1.0</td>\n",
       "    </tr>\n",
       "    <tr>\n",
       "      <th>1464553</th>\n",
       "      <td>chrXI</td>\n",
       "      <td>664912</td>\n",
       "      <td>1.0</td>\n",
       "    </tr>\n",
       "    <tr>\n",
       "      <th>1464554</th>\n",
       "      <td>chrXI</td>\n",
       "      <td>665100</td>\n",
       "      <td>1.0</td>\n",
       "    </tr>\n",
       "  </tbody>\n",
       "</table>\n",
       "<p>140632 rows × 3 columns</p>\n",
       "</div>"
      ],
      "text/plain": [
       "           chr     pos  signal\n",
       "1323923  chrXI    3079     1.0\n",
       "1323924  chrXI    3250     1.0\n",
       "1323925  chrXI    3267     1.0\n",
       "1323926  chrXI    3269     1.0\n",
       "1323927  chrXI    3278     1.0\n",
       "...        ...     ...     ...\n",
       "1464550  chrXI  664843     1.0\n",
       "1464551  chrXI  664845     1.0\n",
       "1464552  chrXI  664849     1.0\n",
       "1464553  chrXI  664912     1.0\n",
       "1464554  chrXI  665100     1.0\n",
       "\n",
       "[140632 rows x 3 columns]"
      ]
     },
     "execution_count": 16,
     "metadata": {},
     "output_type": "execute_result"
    }
   ],
   "source": [
    "sel_chr = df[df[\"chr\"] == CHR]\n",
    "sel_chr"
   ]
  },
  {
   "cell_type": "code",
   "execution_count": 17,
   "metadata": {},
   "outputs": [],
   "source": [
    "transcripts = SeqIO.parse(\"../data/R64/rna.fna\", \"fasta\")\n",
    "for rec in transcripts:\n",
    "    if rec.id == TRANSCRIPT_ID:\n",
    "        Path(f\"../output/{GENE_NAME}\").mkdir(parents=True, exist_ok=True)\n",
    "        with open(f\"../output/{GENE_NAME}/seq.fasta\", \"w\") as f:\n",
    "            f.write(f\">{rec.id}\\n{rec.seq}\\n\")\n",
    "        break"
   ]
  },
  {
   "cell_type": "code",
   "execution_count": 18,
   "metadata": {},
   "outputs": [
    {
     "data": {
      "text/html": [
       "<div>\n",
       "<style scoped>\n",
       "    .dataframe tbody tr th:only-of-type {\n",
       "        vertical-align: middle;\n",
       "    }\n",
       "\n",
       "    .dataframe tbody tr th {\n",
       "        vertical-align: top;\n",
       "    }\n",
       "\n",
       "    .dataframe thead th {\n",
       "        text-align: right;\n",
       "    }\n",
       "</style>\n",
       "<table border=\"1\" class=\"dataframe\">\n",
       "  <thead>\n",
       "    <tr style=\"text-align: right;\">\n",
       "      <th></th>\n",
       "      <th>chr</th>\n",
       "      <th>pos</th>\n",
       "      <th>signal</th>\n",
       "    </tr>\n",
       "  </thead>\n",
       "  <tbody>\n",
       "    <tr>\n",
       "      <th>1340742</th>\n",
       "      <td>chrXI</td>\n",
       "      <td>2</td>\n",
       "      <td>1.0</td>\n",
       "    </tr>\n",
       "    <tr>\n",
       "      <th>1340743</th>\n",
       "      <td>chrXI</td>\n",
       "      <td>4</td>\n",
       "      <td>2.0</td>\n",
       "    </tr>\n",
       "    <tr>\n",
       "      <th>1340744</th>\n",
       "      <td>chrXI</td>\n",
       "      <td>18</td>\n",
       "      <td>1.0</td>\n",
       "    </tr>\n",
       "    <tr>\n",
       "      <th>1340745</th>\n",
       "      <td>chrXI</td>\n",
       "      <td>22</td>\n",
       "      <td>2.0</td>\n",
       "    </tr>\n",
       "    <tr>\n",
       "      <th>1340746</th>\n",
       "      <td>chrXI</td>\n",
       "      <td>23</td>\n",
       "      <td>2.0</td>\n",
       "    </tr>\n",
       "    <tr>\n",
       "      <th>...</th>\n",
       "      <td>...</td>\n",
       "      <td>...</td>\n",
       "      <td>...</td>\n",
       "    </tr>\n",
       "    <tr>\n",
       "      <th>1464550</th>\n",
       "      <td>chrXI</td>\n",
       "      <td>570344</td>\n",
       "      <td>1.0</td>\n",
       "    </tr>\n",
       "    <tr>\n",
       "      <th>1464551</th>\n",
       "      <td>chrXI</td>\n",
       "      <td>570346</td>\n",
       "      <td>1.0</td>\n",
       "    </tr>\n",
       "    <tr>\n",
       "      <th>1464552</th>\n",
       "      <td>chrXI</td>\n",
       "      <td>570350</td>\n",
       "      <td>1.0</td>\n",
       "    </tr>\n",
       "    <tr>\n",
       "      <th>1464553</th>\n",
       "      <td>chrXI</td>\n",
       "      <td>570413</td>\n",
       "      <td>1.0</td>\n",
       "    </tr>\n",
       "    <tr>\n",
       "      <th>1464554</th>\n",
       "      <td>chrXI</td>\n",
       "      <td>570601</td>\n",
       "      <td>1.0</td>\n",
       "    </tr>\n",
       "  </tbody>\n",
       "</table>\n",
       "<p>123813 rows × 3 columns</p>\n",
       "</div>"
      ],
      "text/plain": [
       "           chr     pos  signal\n",
       "1340742  chrXI       2     1.0\n",
       "1340743  chrXI       4     2.0\n",
       "1340744  chrXI      18     1.0\n",
       "1340745  chrXI      22     2.0\n",
       "1340746  chrXI      23     2.0\n",
       "...        ...     ...     ...\n",
       "1464550  chrXI  570344     1.0\n",
       "1464551  chrXI  570346     1.0\n",
       "1464552  chrXI  570350     1.0\n",
       "1464553  chrXI  570413     1.0\n",
       "1464554  chrXI  570601     1.0\n",
       "\n",
       "[123813 rows x 3 columns]"
      ]
     },
     "execution_count": 18,
     "metadata": {},
     "output_type": "execute_result"
    }
   ],
   "source": [
    "sel_chr.loc[:, \"pos\"] = sel_chr[\"pos\"] - TRANSCRIPT_START\n",
    "sel_chr = sel_chr[sel_chr[\"pos\"] >= 0]\n",
    "sel_chr"
   ]
  },
  {
   "cell_type": "code",
   "execution_count": 19,
   "metadata": {},
   "outputs": [],
   "source": [
    "transcript_signals = []\n",
    "for idx, nt in enumerate(rec.seq):\n",
    "    if idx in sel_chr[\"pos\"].values and nt in \"AT\":\n",
    "        transcript_signals.append([nt, sel_chr[sel_chr[\"pos\"] == idx][\"signal\"].values[0]])\n",
    "    else:\n",
    "        transcript_signals.append([nt, 0])"
   ]
  },
  {
   "cell_type": "code",
   "execution_count": 20,
   "metadata": {},
   "outputs": [
    {
     "data": {
      "text/html": [
       "<div>\n",
       "<style scoped>\n",
       "    .dataframe tbody tr th:only-of-type {\n",
       "        vertical-align: middle;\n",
       "    }\n",
       "\n",
       "    .dataframe tbody tr th {\n",
       "        vertical-align: top;\n",
       "    }\n",
       "\n",
       "    .dataframe thead th {\n",
       "        text-align: right;\n",
       "    }\n",
       "</style>\n",
       "<table border=\"1\" class=\"dataframe\">\n",
       "  <thead>\n",
       "    <tr style=\"text-align: right;\">\n",
       "      <th></th>\n",
       "      <th>nt</th>\n",
       "      <th>signal</th>\n",
       "    </tr>\n",
       "  </thead>\n",
       "  <tbody>\n",
       "    <tr>\n",
       "      <th>0</th>\n",
       "      <td>A</td>\n",
       "      <td>0.0000</td>\n",
       "    </tr>\n",
       "    <tr>\n",
       "      <th>1</th>\n",
       "      <td>T</td>\n",
       "      <td>0.0000</td>\n",
       "    </tr>\n",
       "    <tr>\n",
       "      <th>2</th>\n",
       "      <td>G</td>\n",
       "      <td>0.0000</td>\n",
       "    </tr>\n",
       "    <tr>\n",
       "      <th>3</th>\n",
       "      <td>T</td>\n",
       "      <td>0.0000</td>\n",
       "    </tr>\n",
       "    <tr>\n",
       "      <th>4</th>\n",
       "      <td>C</td>\n",
       "      <td>0.0000</td>\n",
       "    </tr>\n",
       "    <tr>\n",
       "      <th>...</th>\n",
       "      <td>...</td>\n",
       "      <td>...</td>\n",
       "    </tr>\n",
       "    <tr>\n",
       "      <th>1762</th>\n",
       "      <td>A</td>\n",
       "      <td>0.0625</td>\n",
       "    </tr>\n",
       "    <tr>\n",
       "      <th>1763</th>\n",
       "      <td>T</td>\n",
       "      <td>0.0000</td>\n",
       "    </tr>\n",
       "    <tr>\n",
       "      <th>1764</th>\n",
       "      <td>T</td>\n",
       "      <td>0.0000</td>\n",
       "    </tr>\n",
       "    <tr>\n",
       "      <th>1765</th>\n",
       "      <td>G</td>\n",
       "      <td>0.0000</td>\n",
       "    </tr>\n",
       "    <tr>\n",
       "      <th>1766</th>\n",
       "      <td>A</td>\n",
       "      <td>0.0625</td>\n",
       "    </tr>\n",
       "  </tbody>\n",
       "</table>\n",
       "<p>1767 rows × 2 columns</p>\n",
       "</div>"
      ],
      "text/plain": [
       "     nt  signal\n",
       "0     A  0.0000\n",
       "1     T  0.0000\n",
       "2     G  0.0000\n",
       "3     T  0.0000\n",
       "4     C  0.0000\n",
       "...  ..     ...\n",
       "1762  A  0.0625\n",
       "1763  T  0.0000\n",
       "1764  T  0.0000\n",
       "1765  G  0.0000\n",
       "1766  A  0.0625\n",
       "\n",
       "[1767 rows x 2 columns]"
      ]
     },
     "execution_count": 20,
     "metadata": {},
     "output_type": "execute_result"
    }
   ],
   "source": [
    "transcript_signals = pd.DataFrame(transcript_signals, columns=[\"nt\", \"signal\"])\n",
    "transcript_signals[\"signal\"] = transcript_signals[\"signal\"] / transcript_signals[\"signal\"].max()\n",
    "transcript_signals"
   ]
  },
  {
   "cell_type": "code",
   "execution_count": 21,
   "metadata": {},
   "outputs": [
    {
     "data": {
      "text/plain": [
       "<Axes: >"
      ]
     },
     "execution_count": 21,
     "metadata": {},
     "output_type": "execute_result"
    },
    {
     "data": {
      "image/png": "[encoded data removed]",
      "text/plain": [
       "<Figure size 640x480 with 1 Axes>"
      ]
     },
     "metadata": {},
     "output_type": "display_data"
    }
   ],
   "source": [
    "transcript_signals[\"signal\"].plot()"
   ]
  },
  {
   "cell_type": "code",
   "execution_count": 22,
   "metadata": {},
   "outputs": [],
   "source": [
    "constraints = [\n",
    "    \"x\" if transcript_signals[\"signal\"].iloc[i] > THRESHOLD\n",
    "    else \".\" for i in range(len(transcript_signals))\n",
    "]\n",
    "with open(f\"../output/{GENE_NAME}/constrained.fasta\", \"w\") as f:\n",
    "    f.write(f\">{rec.id}\\n{rec.seq}\\n{''.join(constraints)}\\n\")"
   ]
  }
 ],
 "metadata": {
  "kernelspec": {
   "display_name": "mgr",
   "language": "python",
   "name": "python3"
  },
  "language_info": {
   "codemirror_mode": {
    "name": "ipython",
    "version": 3
   },
   "file_extension": ".py",
   "mimetype": "text/x-python",
   "name": "python",
   "nbconvert_exporter": "python",
   "pygments_lexer": "ipython3",
   "version": "3.10.8"
  }
 },
 "nbformat": 4,
 "nbformat_minor": 2
}
