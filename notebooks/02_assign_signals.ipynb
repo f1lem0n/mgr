{
 "cells": [
  {
   "cell_type": "code",
   "execution_count": 1,
   "metadata": {},
   "outputs": [],
   "source": [
    "from pathlib import Path\n",
    "import random\n",
    "import re\n",
    "\n",
    "from Bio import SeqIO\n",
    "import numpy as np"
   ]
  },
  {
   "cell_type": "code",
   "execution_count": 2,
   "metadata": {},
   "outputs": [],
   "source": [
    "THRESHOLD = 0.2\n",
    "FILTER = False\n",
    "QUERY = \"ORF\"\n",
    "rna_path = \"../data/S288C_reference_genome_R62-1-1_20090218/orf_coding_all_R62-1-1_20090220.fasta\" # mRNA\n",
    "ref_path = \"../data/S288C_reference_genome_R62-1-1_20090218/S288C_reference_sequence_R62-1-1_20090218.fsa\""
   ]
  },
  {
   "cell_type": "code",
   "execution_count": 3,
   "metadata": {},
   "outputs": [],
   "source": [
    "def parse_gene_infos(records):\n",
    "    \"\"\"parse gene info from fasta file (for R62 genome)\"\"\"\n",
    "    infos = []\n",
    "    for rec in records:\n",
    "        gene_id = rec.id\n",
    "        name = rec.description.split(\" \")[1]\n",
    "        chr = \"chr\" + rec.description.split(\" \")[4]\n",
    "        coords = rec.description.split(\" \")[6]\n",
    "        starts = []\n",
    "        ends = []\n",
    "        for c in coords[:-1].split(\",\"):\n",
    "            start = int(c.split(\"-\")[0]) - 1\n",
    "            end = int(c.split(\"-\")[1])\n",
    "            if start > end:\n",
    "                start, end = end, start\n",
    "            starts.append(start)\n",
    "            ends.append(end)\n",
    "        infos.append([gene_id, name, chr, starts, ends])\n",
    "    return infos\n",
    "\n",
    "def filter(records, query):\n",
    "    regex = re.compile(query)\n",
    "    for rec in records:\n",
    "        if bool(regex.search(rec.description)):\n",
    "            yield rec\n",
    "\n",
    "def find_save_rec(transcripts, gene_name, transcript_id):\n",
    "    for rec in transcripts:\n",
    "        if rec.id == transcript_id:\n",
    "            Path(f\"../output/{gene_name}\").mkdir(parents=True, exist_ok=True)\n",
    "            with open(f\"../output/{gene_name}/nucleotide.fasta\", \"w\") as f:\n",
    "                f.write(f\">{rec.description}\\n{rec.seq}\\n\")\n",
    "            with open(f\"../output/{gene_name}/protein.fasta\", \"w\") as f:\n",
    "                f.write(f\">{rec.description} translated\\n{rec.seq.translate()}\\n\")\n",
    "            return rec\n",
    "\n",
    "\n",
    "def get_signals(chr, starts, ends):\n",
    "    signals = []\n",
    "    with open(f\"../data/dms_signal/processed/{chr}.bin\", \"rb\") as f:\n",
    "        s = np.load(f)\n",
    "    for start, end in zip(starts, ends):\n",
    "        signals += list(s[start:end])\n",
    "    return signals\n",
    "\n",
    "\n",
    "def make_save_constraints(signals, rec, gene_name, threshold=0.2):\n",
    "    constraints = [\n",
    "        \"x\" if signals[i] > threshold\n",
    "        else \".\" for i in range(len(signals))\n",
    "    ]\n",
    "    with open(f\"../output/{gene_name}/constrained.fasta\", \"w\") as f:\n",
    "        f.write(f\">{rec.description}\\n{rec.seq}\\n{''.join(constraints)}\\n\")"
   ]
  },
  {
   "cell_type": "code",
   "execution_count": 4,
   "metadata": {},
   "outputs": [
    {
     "data": {
      "text/plain": [
       "[['YAL001C', 'TFC3', 'chrI', [151099, 147596], [151167, 151007]],\n",
       " ['YAL002W', 'VPS8', 'chrI', [143708], [147533]],\n",
       " ['YAL003W', 'EFB1', 'chrI', [142175, 142621], [142255, 143162]],\n",
       " ['YAL004W', 'YAL004W', 'chrI', [140761], [141409]],\n",
       " ['YAL005C', 'SSA1', 'chrI', [139505], [141432]]]"
      ]
     },
     "execution_count": 4,
     "metadata": {},
     "output_type": "execute_result"
    }
   ],
   "source": [
    "with open(rna_path) as f:\n",
    "    records = list(SeqIO.parse(f, \"fasta\"))\n",
    "if FILTER:\n",
    "    records = filter(records, QUERY)\n",
    "infos = parse_gene_infos(records)\n",
    "infos[:5]"
   ]
  },
  {
   "cell_type": "code",
   "execution_count": 5,
   "metadata": {},
   "outputs": [
    {
     "data": {
      "text/plain": [
       "['YBR121C-A',\n",
       " 'YMR031W-A',\n",
       " 'YOR068C',\n",
       " 'YIL053W',\n",
       " 'YFR048W',\n",
       " 'YGR296C-A',\n",
       " 'YPR179C',\n",
       " 'YGR038C-A',\n",
       " 'YMR115W',\n",
       " 'YPR020W']"
      ]
     },
     "execution_count": 5,
     "metadata": {},
     "output_type": "execute_result"
    }
   ],
   "source": [
    "genes_to_process = random.sample(infos, k=10)\n",
    "[id for id, _, _, _, _ in genes_to_process]"
   ]
  },
  {
   "cell_type": "code",
   "execution_count": 6,
   "metadata": {},
   "outputs": [],
   "source": [
    "for id, name, chr, starts, ends in genes_to_process:\n",
    "    transcripts = SeqIO.parse(rna_path, \"fasta\")\n",
    "    if FILTER:\n",
    "        transcripts = filter(transcripts, QUERY)\n",
    "    rec = find_save_rec(transcripts, name, id)\n",
    "    signals = get_signals(chr, starts, ends)\n",
    "    make_save_constraints(signals, rec, name, THRESHOLD)"
   ]
  }
 ],
 "metadata": {
  "kernelspec": {
   "display_name": "mgr",
   "language": "python",
   "name": "python3"
  },
  "language_info": {
   "codemirror_mode": {
    "name": "ipython",
    "version": 3
   },
   "file_extension": ".py",
   "mimetype": "text/x-python",
   "name": "python",
   "nbconvert_exporter": "python",
   "pygments_lexer": "ipython3",
   "version": "3.10.8"
  }
 },
 "nbformat": 4,
 "nbformat_minor": 2
}
