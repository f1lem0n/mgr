{
 "cells": [
  {
   "cell_type": "code",
   "execution_count": 1,
   "metadata": {},
   "outputs": [],
   "source": [
    "from pathlib import Path\n",
    "from time import sleep\n",
    "import random\n",
    "import xml.etree.ElementTree as ET\n",
    "\n",
    "from Bio import SeqIO, Entrez\n",
    "import pandas as pd"
   ]
  },
  {
   "cell_type": "code",
   "execution_count": 2,
   "metadata": {},
   "outputs": [],
   "source": [
    "Entrez.email = \"hajdylaf@gmail.com\""
   ]
  },
  {
   "cell_type": "code",
   "execution_count": 3,
   "metadata": {},
   "outputs": [],
   "source": [
    "def get_gene_info(gene_id):\n",
    "    handle = Entrez.esearch(db=\"gene\", term=gene_id)\n",
    "    record = Entrez.read(handle)\n",
    "    handle.close()\n",
    "\n",
    "    handle = Entrez.efetch(db=\"gene\", id=record[\"IdList\"][0], rettype=\"docsum\")\n",
    "    tree = ET.parse(handle)\n",
    "    handle.close()\n",
    "\n",
    "    name = tree.find(\".//Name\").text\n",
    "    chr = \"chr\" + tree.find(\".//Chromosome\").text\n",
    "    start = tree.find(\".//ChrStart\").text\n",
    "    return [gene_id, name, chr, start]\n",
    "\n",
    "\n",
    "def find_save_rec(transcripts, gene_name, transcript_id):\n",
    "    for rec in transcripts:\n",
    "        if rec.id == transcript_id:\n",
    "            Path(f\"../output/{gene_name}\").mkdir(parents=True, exist_ok=True)\n",
    "            with open(f\"../output/{gene_name}/seq.fasta\", \"w\") as f:\n",
    "                f.write(f\">{rec.id}\\n{rec.seq}\\n\")\n",
    "            return rec\n",
    "\n",
    "\n",
    "def get_signals(sel_chr, rec):\n",
    "    signals = []\n",
    "    for idx, nt in enumerate(rec.seq):\n",
    "        if idx in sel_chr[\"pos\"].values and nt in \"AT\":\n",
    "            signals.append(\n",
    "                [nt, sel_chr[sel_chr[\"pos\"] == idx][\"signal\"].values[0]]\n",
    "            )\n",
    "        else:\n",
    "            signals.append([nt, 0])\n",
    "    signals = pd.DataFrame(signals, columns=[\"nt\", \"signal\"])\n",
    "    signals[\"signal\"] = signals[\"signal\"] / signals[\"signal\"].max()\n",
    "    return signals\n",
    "\n",
    "\n",
    "def make_save_constraints(signals, rec, gene_name, threshold=0.2):\n",
    "    constraints = [\n",
    "        \"x\" if signals[\"signal\"].iloc[i] > threshold\n",
    "        else \".\" for i in range(len(signals))\n",
    "    ]\n",
    "    with open(f\"../output/{gene_name}/constrained.fasta\", \"w\") as f:\n",
    "        f.write(f\">{rec.id}\\n{rec.seq}\\n{''.join(constraints)}\\n\")"
   ]
  },
  {
   "cell_type": "code",
   "execution_count": 4,
   "metadata": {},
   "outputs": [],
   "source": [
    "# with open(\"../data/derived/tRNA.txt\") as f:\n",
    "#     trnas = [line.strip() for line in f.readlines()]\n",
    "\n",
    "# lines = []\n",
    "# transcripts = SeqIO.parse(\"../data/R64/rna.fna\", \"fasta\")\n",
    "# for rec in transcripts:\n",
    "#     if rec.id not in trnas: # only tRNA\n",
    "#         continue\n",
    "#     info = get_gene_info(rec.id)\n",
    "#     line = \"\\t\".join(info) + \"\\n\"\n",
    "#     lines.append(line)\n",
    "#     sleep(0.1)\n",
    "\n",
    "# with open(\"../data/derived/tRNAinfo.tsv\", \"w\") as f:\n",
    "    # f.writelines(lines)"
   ]
  },
  {
   "cell_type": "code",
   "execution_count": 5,
   "metadata": {},
   "outputs": [
    {
     "data": {
      "text/plain": [
       "[['NM_001179944.2', 'FRS2', 'chrVI', '95009'],\n",
       " ['NM_001183192.1', 'SMM1', 'chrXIV', '653386'],\n",
       " ['NM_001181469.1', 'TAD2', 'chrX', '381000'],\n",
       " ['NM_001182439.1', 'DUS1', 'chrXIII', '108805'],\n",
       " ['NM_001179428.3', 'THS1', 'chrIX', '212498']]"
      ]
     },
     "execution_count": 5,
     "metadata": {},
     "output_type": "execute_result"
    }
   ],
   "source": [
    "with open(\"../data/derived/tRNAinfo.tsv\") as f:\n",
    "    infos = [line.strip().split(\"\\t\") for line in f.readlines()]\n",
    "random.choices(infos, k=5)"
   ]
  },
  {
   "cell_type": "code",
   "execution_count": 6,
   "metadata": {},
   "outputs": [
    {
     "data": {
      "text/plain": [
       "array(['chrI', 'chrII', 'chrIII', 'chrIV', 'chrIX', 'chrMito', 'chrV',\n",
       "       'chrVI', 'chrVII', 'chrVIII', 'chrX', 'chrXI', 'chrXII', 'chrXIII',\n",
       "       'chrXIV', 'chrXV', 'chrXVI'], dtype=object)"
      ]
     },
     "execution_count": 6,
     "metadata": {},
     "output_type": "execute_result"
    }
   ],
   "source": [
    "THRESHOLD = 0.1\n",
    "\n",
    "df = pd.read_csv(\"../data/dms_signal/combined.tsv\", sep=\"\\t\")\n",
    "df[\"chr\"].unique()"
   ]
  },
  {
   "cell_type": "code",
   "execution_count": 7,
   "metadata": {},
   "outputs": [],
   "source": [
    "for TRANSCRIPT_ID, GENE_NAME, CHR, TRANSCRIPT_START in random.choices(infos, k=5):\n",
    "    TRANSCRIPT_START = int(TRANSCRIPT_START)\n",
    "    sel_chr = df[df[\"chr\"] == CHR]\n",
    "    sel_chr.loc[:, \"pos\"] = sel_chr[\"pos\"] - TRANSCRIPT_START\n",
    "    sel_chr = sel_chr[sel_chr[\"pos\"] >= 0]\n",
    "    transcripts = SeqIO.parse(\"../data/R64/rna.fna\", \"fasta\")\n",
    "    rec = find_save_rec(transcripts, GENE_NAME, TRANSCRIPT_ID)\n",
    "    transcript_signals = get_signals(sel_chr, rec)\n",
    "    make_save_constraints(transcript_signals, rec, GENE_NAME, THRESHOLD)"
   ]
  }
 ],
 "metadata": {
  "kernelspec": {
   "display_name": "mgr",
   "language": "python",
   "name": "python3"
  },
  "language_info": {
   "codemirror_mode": {
    "name": "ipython",
    "version": 3
   },
   "file_extension": ".py",
   "mimetype": "text/x-python",
   "name": "python",
   "nbconvert_exporter": "python",
   "pygments_lexer": "ipython3",
   "version": "3.10.8"
  }
 },
 "nbformat": 4,
 "nbformat_minor": 2
}
