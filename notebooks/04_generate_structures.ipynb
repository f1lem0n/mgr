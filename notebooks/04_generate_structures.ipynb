{
 "cells": [
  {
   "cell_type": "code",
   "execution_count": 1,
   "metadata": {},
   "outputs": [],
   "source": [
    "from pathlib import Path\n",
    "from shutil import rmtree"
   ]
  },
  {
   "cell_type": "code",
   "execution_count": 2,
   "metadata": {},
   "outputs": [],
   "source": [
    "# remove incomplete paths before generating structures\n",
    "correct = set(['constrained.fasta', 'nucleotide.fasta', 'seqdump_nn.txt'])\n",
    "for path in Path(\"../output_yeast_pre_threshold/structures/rRNA/\").iterdir():\n",
    "    if not path.is_dir():\n",
    "        continue\n",
    "    files = [p.name for p in path.iterdir() if p.is_file()]\n",
    "    if set(files) < correct:\n",
    "        rmtree(path)"
   ]
  },
  {
   "cell_type": "code",
   "execution_count": 4,
   "metadata": {},
   "outputs": [
    {
     "name": "stdout",
     "output_type": "stream",
     "text": [
      "mkdir: cannot create directory ‘../logs’: File exists\n"
     ]
    }
   ],
   "source": [
    "!mkdir ../logs\n",
    "!../scripts/generate_structures.sh &> ../logs/generate_structures_rRNA_yeast.log"
   ]
  },
  {
   "cell_type": "code",
   "execution_count": 6,
   "metadata": {},
   "outputs": [],
   "source": [
    "# remove incomplete paths after generating structures\n",
    "correct = set(['alidot.ps', 'alifold.out', 'alirna.ps', 'alidot.png', 'alirna.png', 'MFEs.txt'])\n",
    "for path in Path(\"../output/structures/rRNA/\").iterdir():\n",
    "    if not path.is_dir():\n",
    "        continue\n",
    "    files = [p.name for p in (path / \"vienna\" / \"consensus\").iterdir() if p.is_file()]\n",
    "    if set(files) < correct:\n",
    "        rmtree(path)\n",
    "    # files = [p.name for p in (path / \"vienna\" / \"consensus_guided\").iterdir() if p.is_file()]\n",
    "    # if set(files) < correct:\n",
    "    #     rmtree(path)"
   ]
  }
 ],
 "metadata": {
  "kernelspec": {
   "display_name": "mgr",
   "language": "python",
   "name": "python3"
  },
  "language_info": {
   "codemirror_mode": {
    "name": "ipython",
    "version": 3
   },
   "file_extension": ".py",
   "mimetype": "text/x-python",
   "name": "python",
   "nbconvert_exporter": "python",
   "pygments_lexer": "ipython3",
   "version": "3.10.8"
  }
 },
 "nbformat": 4,
 "nbformat_minor": 2
}
